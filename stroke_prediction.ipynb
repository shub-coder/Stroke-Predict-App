{
 "cells": [
  {
   "cell_type": "code",
   "execution_count": 1,
   "metadata": {
    "id": "DvVOznk1gZLD"
   },
   "outputs": [
    {
     "name": "stdout",
     "output_type": "stream",
     "text": [
      "Requirement already satisfied: pandas in c:\\users\\shubhendu\\.conda\\envs\\strokeprediction\\lib\\site-packages (1.3.5)\n",
      "Requirement already satisfied: python-dateutil>=2.7.3 in c:\\users\\shubhendu\\.conda\\envs\\strokeprediction\\lib\\site-packages (from pandas) (2.8.2)\n",
      "Requirement already satisfied: numpy>=1.17.3 in c:\\users\\shubhendu\\.conda\\envs\\strokeprediction\\lib\\site-packages (from pandas) (1.21.4)\n",
      "Requirement already satisfied: pytz>=2017.3 in c:\\users\\shubhendu\\.conda\\envs\\strokeprediction\\lib\\site-packages (from pandas) (2021.3)\n",
      "Requirement already satisfied: six>=1.5 in c:\\users\\shubhendu\\.conda\\envs\\strokeprediction\\lib\\site-packages (from python-dateutil>=2.7.3->pandas) (1.16.0)\n",
      "Requirement already satisfied: matplotlib in c:\\users\\shubhendu\\.conda\\envs\\strokeprediction\\lib\\site-packages (3.5.1)\n",
      "Requirement already satisfied: fonttools>=4.22.0 in c:\\users\\shubhendu\\.conda\\envs\\strokeprediction\\lib\\site-packages (from matplotlib) (4.28.3)\n",
      "Requirement already satisfied: pillow>=6.2.0 in c:\\users\\shubhendu\\.conda\\envs\\strokeprediction\\lib\\site-packages (from matplotlib) (8.4.0)\n",
      "Requirement already satisfied: pyparsing>=2.2.1 in c:\\users\\shubhendu\\.conda\\envs\\strokeprediction\\lib\\site-packages (from matplotlib) (3.0.6)\n",
      "Requirement already satisfied: kiwisolver>=1.0.1 in c:\\users\\shubhendu\\.conda\\envs\\strokeprediction\\lib\\site-packages (from matplotlib) (1.3.2)\n",
      "Requirement already satisfied: python-dateutil>=2.7 in c:\\users\\shubhendu\\.conda\\envs\\strokeprediction\\lib\\site-packages (from matplotlib) (2.8.2)\n",
      "Requirement already satisfied: cycler>=0.10 in c:\\users\\shubhendu\\.conda\\envs\\strokeprediction\\lib\\site-packages (from matplotlib) (0.11.0)\n",
      "Requirement already satisfied: packaging>=20.0 in c:\\users\\shubhendu\\.conda\\envs\\strokeprediction\\lib\\site-packages (from matplotlib) (21.3)\n",
      "Requirement already satisfied: numpy>=1.17 in c:\\users\\shubhendu\\.conda\\envs\\strokeprediction\\lib\\site-packages (from matplotlib) (1.21.4)\n",
      "Requirement already satisfied: six>=1.5 in c:\\users\\shubhendu\\.conda\\envs\\strokeprediction\\lib\\site-packages (from python-dateutil>=2.7->matplotlib) (1.16.0)\n",
      "Requirement already satisfied: seaborn in c:\\users\\shubhendu\\.conda\\envs\\strokeprediction\\lib\\site-packages (0.11.2)\n",
      "Requirement already satisfied: scipy>=1.0 in c:\\users\\shubhendu\\.conda\\envs\\strokeprediction\\lib\\site-packages (from seaborn) (1.7.3)\n",
      "Requirement already satisfied: numpy>=1.15 in c:\\users\\shubhendu\\.conda\\envs\\strokeprediction\\lib\\site-packages (from seaborn) (1.21.4)\n",
      "Requirement already satisfied: pandas>=0.23 in c:\\users\\shubhendu\\.conda\\envs\\strokeprediction\\lib\\site-packages (from seaborn) (1.3.5)\n",
      "Requirement already satisfied: matplotlib>=2.2 in c:\\users\\shubhendu\\.conda\\envs\\strokeprediction\\lib\\site-packages (from seaborn) (3.5.1)\n",
      "Requirement already satisfied: packaging>=20.0 in c:\\users\\shubhendu\\.conda\\envs\\strokeprediction\\lib\\site-packages (from matplotlib>=2.2->seaborn) (21.3)\n",
      "Requirement already satisfied: python-dateutil>=2.7 in c:\\users\\shubhendu\\.conda\\envs\\strokeprediction\\lib\\site-packages (from matplotlib>=2.2->seaborn) (2.8.2)\n",
      "Requirement already satisfied: cycler>=0.10 in c:\\users\\shubhendu\\.conda\\envs\\strokeprediction\\lib\\site-packages (from matplotlib>=2.2->seaborn) (0.11.0)\n",
      "Requirement already satisfied: pyparsing>=2.2.1 in c:\\users\\shubhendu\\.conda\\envs\\strokeprediction\\lib\\site-packages (from matplotlib>=2.2->seaborn) (3.0.6)\n",
      "Requirement already satisfied: fonttools>=4.22.0 in c:\\users\\shubhendu\\.conda\\envs\\strokeprediction\\lib\\site-packages (from matplotlib>=2.2->seaborn) (4.28.3)\n",
      "Requirement already satisfied: kiwisolver>=1.0.1 in c:\\users\\shubhendu\\.conda\\envs\\strokeprediction\\lib\\site-packages (from matplotlib>=2.2->seaborn) (1.3.2)\n",
      "Requirement already satisfied: pillow>=6.2.0 in c:\\users\\shubhendu\\.conda\\envs\\strokeprediction\\lib\\site-packages (from matplotlib>=2.2->seaborn) (8.4.0)\n",
      "Requirement already satisfied: pytz>=2017.3 in c:\\users\\shubhendu\\.conda\\envs\\strokeprediction\\lib\\site-packages (from pandas>=0.23->seaborn) (2021.3)\n",
      "Requirement already satisfied: six>=1.5 in c:\\users\\shubhendu\\.conda\\envs\\strokeprediction\\lib\\site-packages (from python-dateutil>=2.7->matplotlib>=2.2->seaborn) (1.16.0)\n",
      "Requirement already satisfied: sklearn in c:\\users\\shubhendu\\.conda\\envs\\strokeprediction\\lib\\site-packages (0.0)\n",
      "Requirement already satisfied: scikit-learn in c:\\users\\shubhendu\\.conda\\envs\\strokeprediction\\lib\\site-packages (from sklearn) (1.0.1)\n",
      "Requirement already satisfied: threadpoolctl>=2.0.0 in c:\\users\\shubhendu\\.conda\\envs\\strokeprediction\\lib\\site-packages (from scikit-learn->sklearn) (3.0.0)\n",
      "Requirement already satisfied: numpy>=1.14.6 in c:\\users\\shubhendu\\.conda\\envs\\strokeprediction\\lib\\site-packages (from scikit-learn->sklearn) (1.21.4)\n",
      "Requirement already satisfied: scipy>=1.1.0 in c:\\users\\shubhendu\\.conda\\envs\\strokeprediction\\lib\\site-packages (from scikit-learn->sklearn) (1.7.3)\n",
      "Requirement already satisfied: joblib>=0.11 in c:\\users\\shubhendu\\.conda\\envs\\strokeprediction\\lib\\site-packages (from scikit-learn->sklearn) (1.1.0)\n",
      "Requirement already satisfied: imblearn in c:\\users\\shubhendu\\.conda\\envs\\strokeprediction\\lib\\site-packages (0.0)\n",
      "Requirement already satisfied: imbalanced-learn in c:\\users\\shubhendu\\.conda\\envs\\strokeprediction\\lib\\site-packages (from imblearn) (0.8.1)\n",
      "Requirement already satisfied: numpy>=1.13.3 in c:\\users\\shubhendu\\.conda\\envs\\strokeprediction\\lib\\site-packages (from imbalanced-learn->imblearn) (1.21.4)\n",
      "Requirement already satisfied: scikit-learn>=0.24 in c:\\users\\shubhendu\\.conda\\envs\\strokeprediction\\lib\\site-packages (from imbalanced-learn->imblearn) (1.0.1)\n",
      "Requirement already satisfied: joblib>=0.11 in c:\\users\\shubhendu\\.conda\\envs\\strokeprediction\\lib\\site-packages (from imbalanced-learn->imblearn) (1.1.0)\n",
      "Requirement already satisfied: scipy>=0.19.1 in c:\\users\\shubhendu\\.conda\\envs\\strokeprediction\\lib\\site-packages (from imbalanced-learn->imblearn) (1.7.3)\n",
      "Requirement already satisfied: threadpoolctl>=2.0.0 in c:\\users\\shubhendu\\.conda\\envs\\strokeprediction\\lib\\site-packages (from scikit-learn>=0.24->imbalanced-learn->imblearn) (3.0.0)\n",
      "Requirement already satisfied: lightgbm in c:\\users\\shubhendu\\.conda\\envs\\strokeprediction\\lib\\site-packages (3.3.1)\n",
      "Requirement already satisfied: scipy in c:\\users\\shubhendu\\.conda\\envs\\strokeprediction\\lib\\site-packages (from lightgbm) (1.7.3)\n",
      "Requirement already satisfied: wheel in c:\\users\\shubhendu\\.conda\\envs\\strokeprediction\\lib\\site-packages (from lightgbm) (0.37.0)\n",
      "Requirement already satisfied: scikit-learn!=0.22.0 in c:\\users\\shubhendu\\.conda\\envs\\strokeprediction\\lib\\site-packages (from lightgbm) (1.0.1)\n",
      "Requirement already satisfied: numpy in c:\\users\\shubhendu\\.conda\\envs\\strokeprediction\\lib\\site-packages (from lightgbm) (1.21.4)\n",
      "Requirement already satisfied: threadpoolctl>=2.0.0 in c:\\users\\shubhendu\\.conda\\envs\\strokeprediction\\lib\\site-packages (from scikit-learn!=0.22.0->lightgbm) (3.0.0)\n",
      "Requirement already satisfied: joblib>=0.11 in c:\\users\\shubhendu\\.conda\\envs\\strokeprediction\\lib\\site-packages (from scikit-learn!=0.22.0->lightgbm) (1.1.0)\n",
      "Requirement already satisfied: xgboost in c:\\users\\shubhendu\\.conda\\envs\\strokeprediction\\lib\\site-packages (1.5.1)\n",
      "Requirement already satisfied: numpy in c:\\users\\shubhendu\\.conda\\envs\\strokeprediction\\lib\\site-packages (from xgboost) (1.21.4)\n",
      "Requirement already satisfied: scipy in c:\\users\\shubhendu\\.conda\\envs\\strokeprediction\\lib\\site-packages (from xgboost) (1.7.3)\n"
     ]
    }
   ],
   "source": [
    "!pip install pandas\n",
    "!pip install matplotlib\n",
    "!pip install seaborn\n",
    "!pip install sklearn\n",
    "!pip install imblearn\n",
    "!pip install lightgbm\n",
    "!pip install xgboost\n",
    "import pandas as pd\n",
    "import numpy as np\n",
    "import matplotlib.pyplot as plt\n",
    "import seaborn as sns\n",
    "from sklearn.preprocessing import LabelEncoder, StandardScaler\n",
    "from imblearn.over_sampling import SMOTE\n",
    "from sklearn.model_selection import train_test_split\n",
    "from sklearn.svm import SVC\n",
    "from sklearn.naive_bayes import GaussianNB\n",
    "from sklearn.linear_model import LogisticRegression\n",
    "from sklearn.tree import DecisionTreeClassifier\n",
    "from sklearn.ensemble import RandomForestClassifier\n",
    "from lightgbm import LGBMClassifier\n",
    "from xgboost import XGBClassifier\n",
    "from sklearn.metrics import classification_report,accuracy_score,confusion_matrix\n",
    "from sklearn.metrics import auc,roc_auc_score,roc_curve,precision_score,recall_score,f1_score\n",
    "import time as timer\n",
    "from sklearn.inspection import permutation_importance"
   ]
  },
  {
   "cell_type": "code",
   "execution_count": 2,
   "metadata": {
    "colab": {
     "base_uri": "https://localhost:8080/",
     "height": 363
    },
    "id": "vP-9QFYRhDlh",
    "outputId": "1c5310a8-d466-482e-f01b-7c482cb02df6"
   },
   "outputs": [
    {
     "data": {
      "text/html": [
       "<div>\n",
       "<style scoped>\n",
       "    .dataframe tbody tr th:only-of-type {\n",
       "        vertical-align: middle;\n",
       "    }\n",
       "\n",
       "    .dataframe tbody tr th {\n",
       "        vertical-align: top;\n",
       "    }\n",
       "\n",
       "    .dataframe thead th {\n",
       "        text-align: right;\n",
       "    }\n",
       "</style>\n",
       "<table border=\"1\" class=\"dataframe\">\n",
       "  <thead>\n",
       "    <tr style=\"text-align: right;\">\n",
       "      <th></th>\n",
       "      <th>id</th>\n",
       "      <th>gender</th>\n",
       "      <th>age</th>\n",
       "      <th>hypertension</th>\n",
       "      <th>heart_disease</th>\n",
       "      <th>ever_married</th>\n",
       "      <th>work_type</th>\n",
       "      <th>Residence_type</th>\n",
       "      <th>avg_glucose_level</th>\n",
       "      <th>bmi</th>\n",
       "      <th>smoking_status</th>\n",
       "      <th>stroke</th>\n",
       "    </tr>\n",
       "  </thead>\n",
       "  <tbody>\n",
       "    <tr>\n",
       "      <th>0</th>\n",
       "      <td>9046</td>\n",
       "      <td>Male</td>\n",
       "      <td>67.0</td>\n",
       "      <td>0</td>\n",
       "      <td>1</td>\n",
       "      <td>Yes</td>\n",
       "      <td>Private</td>\n",
       "      <td>Urban</td>\n",
       "      <td>228.69</td>\n",
       "      <td>36.6</td>\n",
       "      <td>formerly smoked</td>\n",
       "      <td>1</td>\n",
       "    </tr>\n",
       "    <tr>\n",
       "      <th>1</th>\n",
       "      <td>51676</td>\n",
       "      <td>Female</td>\n",
       "      <td>61.0</td>\n",
       "      <td>0</td>\n",
       "      <td>0</td>\n",
       "      <td>Yes</td>\n",
       "      <td>Self-employed</td>\n",
       "      <td>Rural</td>\n",
       "      <td>202.21</td>\n",
       "      <td>NaN</td>\n",
       "      <td>never smoked</td>\n",
       "      <td>1</td>\n",
       "    </tr>\n",
       "    <tr>\n",
       "      <th>2</th>\n",
       "      <td>31112</td>\n",
       "      <td>Male</td>\n",
       "      <td>80.0</td>\n",
       "      <td>0</td>\n",
       "      <td>1</td>\n",
       "      <td>Yes</td>\n",
       "      <td>Private</td>\n",
       "      <td>Rural</td>\n",
       "      <td>105.92</td>\n",
       "      <td>32.5</td>\n",
       "      <td>never smoked</td>\n",
       "      <td>1</td>\n",
       "    </tr>\n",
       "    <tr>\n",
       "      <th>3</th>\n",
       "      <td>60182</td>\n",
       "      <td>Female</td>\n",
       "      <td>49.0</td>\n",
       "      <td>0</td>\n",
       "      <td>0</td>\n",
       "      <td>Yes</td>\n",
       "      <td>Private</td>\n",
       "      <td>Urban</td>\n",
       "      <td>171.23</td>\n",
       "      <td>34.4</td>\n",
       "      <td>smokes</td>\n",
       "      <td>1</td>\n",
       "    </tr>\n",
       "    <tr>\n",
       "      <th>4</th>\n",
       "      <td>1665</td>\n",
       "      <td>Female</td>\n",
       "      <td>79.0</td>\n",
       "      <td>1</td>\n",
       "      <td>0</td>\n",
       "      <td>Yes</td>\n",
       "      <td>Self-employed</td>\n",
       "      <td>Rural</td>\n",
       "      <td>174.12</td>\n",
       "      <td>24.0</td>\n",
       "      <td>never smoked</td>\n",
       "      <td>1</td>\n",
       "    </tr>\n",
       "    <tr>\n",
       "      <th>5</th>\n",
       "      <td>56669</td>\n",
       "      <td>Male</td>\n",
       "      <td>81.0</td>\n",
       "      <td>0</td>\n",
       "      <td>0</td>\n",
       "      <td>Yes</td>\n",
       "      <td>Private</td>\n",
       "      <td>Urban</td>\n",
       "      <td>186.21</td>\n",
       "      <td>29.0</td>\n",
       "      <td>formerly smoked</td>\n",
       "      <td>1</td>\n",
       "    </tr>\n",
       "    <tr>\n",
       "      <th>6</th>\n",
       "      <td>53882</td>\n",
       "      <td>Male</td>\n",
       "      <td>74.0</td>\n",
       "      <td>1</td>\n",
       "      <td>1</td>\n",
       "      <td>Yes</td>\n",
       "      <td>Private</td>\n",
       "      <td>Rural</td>\n",
       "      <td>70.09</td>\n",
       "      <td>27.4</td>\n",
       "      <td>never smoked</td>\n",
       "      <td>1</td>\n",
       "    </tr>\n",
       "    <tr>\n",
       "      <th>7</th>\n",
       "      <td>10434</td>\n",
       "      <td>Female</td>\n",
       "      <td>69.0</td>\n",
       "      <td>0</td>\n",
       "      <td>0</td>\n",
       "      <td>No</td>\n",
       "      <td>Private</td>\n",
       "      <td>Urban</td>\n",
       "      <td>94.39</td>\n",
       "      <td>22.8</td>\n",
       "      <td>never smoked</td>\n",
       "      <td>1</td>\n",
       "    </tr>\n",
       "    <tr>\n",
       "      <th>8</th>\n",
       "      <td>27419</td>\n",
       "      <td>Female</td>\n",
       "      <td>59.0</td>\n",
       "      <td>0</td>\n",
       "      <td>0</td>\n",
       "      <td>Yes</td>\n",
       "      <td>Private</td>\n",
       "      <td>Rural</td>\n",
       "      <td>76.15</td>\n",
       "      <td>NaN</td>\n",
       "      <td>Unknown</td>\n",
       "      <td>1</td>\n",
       "    </tr>\n",
       "    <tr>\n",
       "      <th>9</th>\n",
       "      <td>60491</td>\n",
       "      <td>Female</td>\n",
       "      <td>78.0</td>\n",
       "      <td>0</td>\n",
       "      <td>0</td>\n",
       "      <td>Yes</td>\n",
       "      <td>Private</td>\n",
       "      <td>Urban</td>\n",
       "      <td>58.57</td>\n",
       "      <td>24.2</td>\n",
       "      <td>Unknown</td>\n",
       "      <td>1</td>\n",
       "    </tr>\n",
       "  </tbody>\n",
       "</table>\n",
       "</div>"
      ],
      "text/plain": [
       "      id  gender   age  hypertension  heart_disease ever_married  \\\n",
       "0   9046    Male  67.0             0              1          Yes   \n",
       "1  51676  Female  61.0             0              0          Yes   \n",
       "2  31112    Male  80.0             0              1          Yes   \n",
       "3  60182  Female  49.0             0              0          Yes   \n",
       "4   1665  Female  79.0             1              0          Yes   \n",
       "5  56669    Male  81.0             0              0          Yes   \n",
       "6  53882    Male  74.0             1              1          Yes   \n",
       "7  10434  Female  69.0             0              0           No   \n",
       "8  27419  Female  59.0             0              0          Yes   \n",
       "9  60491  Female  78.0             0              0          Yes   \n",
       "\n",
       "       work_type Residence_type  avg_glucose_level   bmi   smoking_status  \\\n",
       "0        Private          Urban             228.69  36.6  formerly smoked   \n",
       "1  Self-employed          Rural             202.21   NaN     never smoked   \n",
       "2        Private          Rural             105.92  32.5     never smoked   \n",
       "3        Private          Urban             171.23  34.4           smokes   \n",
       "4  Self-employed          Rural             174.12  24.0     never smoked   \n",
       "5        Private          Urban             186.21  29.0  formerly smoked   \n",
       "6        Private          Rural              70.09  27.4     never smoked   \n",
       "7        Private          Urban              94.39  22.8     never smoked   \n",
       "8        Private          Rural              76.15   NaN          Unknown   \n",
       "9        Private          Urban              58.57  24.2          Unknown   \n",
       "\n",
       "   stroke  \n",
       "0       1  \n",
       "1       1  \n",
       "2       1  \n",
       "3       1  \n",
       "4       1  \n",
       "5       1  \n",
       "6       1  \n",
       "7       1  \n",
       "8       1  \n",
       "9       1  "
      ]
     },
     "execution_count": 2,
     "metadata": {},
     "output_type": "execute_result"
    }
   ],
   "source": [
    "data = pd.read_csv('healthcare-dataset-stroke-data.csv')\n",
    "data.head(10)"
   ]
  },
  {
   "cell_type": "code",
   "execution_count": 3,
   "metadata": {},
   "outputs": [
    {
     "data": {
      "text/plain": [
       "array(['Private', 'Self-employed', 'Govt_job', 'children', 'Never_worked'],\n",
       "      dtype=object)"
      ]
     },
     "execution_count": 3,
     "metadata": {},
     "output_type": "execute_result"
    }
   ],
   "source": [
    "data['work_type'].unique()"
   ]
  },
  {
   "cell_type": "code",
   "execution_count": 4,
   "metadata": {
    "colab": {
     "base_uri": "https://localhost:8080/"
    },
    "id": "L3_wMqtGmJNR",
    "outputId": "b1b2b3d5-5274-41c4-c42c-57ce516a23ae"
   },
   "outputs": [
    {
     "data": {
      "text/plain": [
       "id                     0\n",
       "gender                 0\n",
       "age                    0\n",
       "hypertension           0\n",
       "heart_disease          0\n",
       "ever_married           0\n",
       "work_type              0\n",
       "Residence_type         0\n",
       "avg_glucose_level      0\n",
       "bmi                  201\n",
       "smoking_status         0\n",
       "stroke                 0\n",
       "dtype: int64"
      ]
     },
     "execution_count": 4,
     "metadata": {},
     "output_type": "execute_result"
    }
   ],
   "source": [
    "data.isnull().sum()"
   ]
  },
  {
   "cell_type": "code",
   "execution_count": 5,
   "metadata": {
    "colab": {
     "base_uri": "https://localhost:8080/"
    },
    "id": "9Vrk5ah0mPlY",
    "outputId": "01b95ffe-21c9-41f5-dec7-ba2b50624af3"
   },
   "outputs": [
    {
     "data": {
      "text/plain": [
       "count    4909.000000\n",
       "mean       28.893237\n",
       "std         7.854067\n",
       "min        10.300000\n",
       "25%        23.500000\n",
       "50%        28.100000\n",
       "75%        33.100000\n",
       "max        97.600000\n",
       "Name: bmi, dtype: float64"
      ]
     },
     "execution_count": 5,
     "metadata": {},
     "output_type": "execute_result"
    }
   ],
   "source": [
    "data['bmi'].describe()"
   ]
  },
  {
   "cell_type": "code",
   "execution_count": 6,
   "metadata": {
    "id": "LrmqMD4hmXdb"
   },
   "outputs": [],
   "source": [
    "data['bmi'] = data.bmi=(data.bmi.fillna(data['bmi'].mean()))"
   ]
  },
  {
   "cell_type": "code",
   "execution_count": 7,
   "metadata": {
    "colab": {
     "base_uri": "https://localhost:8080/"
    },
    "id": "EC3B7UMpnY7_",
    "outputId": "361892e2-6ee6-42ff-be69-17d99c385092"
   },
   "outputs": [
    {
     "data": {
      "text/plain": [
       "0"
      ]
     },
     "execution_count": 7,
     "metadata": {},
     "output_type": "execute_result"
    }
   ],
   "source": [
    "data['bmi'].isnull().sum()"
   ]
  },
  {
   "cell_type": "code",
   "execution_count": 8,
   "metadata": {
    "id": "uVCOefYeni50"
   },
   "outputs": [],
   "source": [
    "data= data.drop(columns=['id'], axis=1)"
   ]
  },
  {
   "cell_type": "code",
   "execution_count": 9,
   "metadata": {
    "colab": {
     "base_uri": "https://localhost:8080/",
     "height": 300
    },
    "id": "R5uqxBP8ndBn",
    "outputId": "5bb2eac4-ac12-450d-ed18-f1adc4e03472"
   },
   "outputs": [
    {
     "data": {
      "text/html": [
       "<div>\n",
       "<style scoped>\n",
       "    .dataframe tbody tr th:only-of-type {\n",
       "        vertical-align: middle;\n",
       "    }\n",
       "\n",
       "    .dataframe tbody tr th {\n",
       "        vertical-align: top;\n",
       "    }\n",
       "\n",
       "    .dataframe thead th {\n",
       "        text-align: right;\n",
       "    }\n",
       "</style>\n",
       "<table border=\"1\" class=\"dataframe\">\n",
       "  <thead>\n",
       "    <tr style=\"text-align: right;\">\n",
       "      <th></th>\n",
       "      <th>age</th>\n",
       "      <th>hypertension</th>\n",
       "      <th>heart_disease</th>\n",
       "      <th>avg_glucose_level</th>\n",
       "      <th>bmi</th>\n",
       "      <th>stroke</th>\n",
       "    </tr>\n",
       "  </thead>\n",
       "  <tbody>\n",
       "    <tr>\n",
       "      <th>count</th>\n",
       "      <td>5110.000000</td>\n",
       "      <td>5110.000000</td>\n",
       "      <td>5110.000000</td>\n",
       "      <td>5110.000000</td>\n",
       "      <td>5110.000000</td>\n",
       "      <td>5110.000000</td>\n",
       "    </tr>\n",
       "    <tr>\n",
       "      <th>mean</th>\n",
       "      <td>43.226614</td>\n",
       "      <td>0.097456</td>\n",
       "      <td>0.054012</td>\n",
       "      <td>106.147677</td>\n",
       "      <td>28.893237</td>\n",
       "      <td>0.048728</td>\n",
       "    </tr>\n",
       "    <tr>\n",
       "      <th>std</th>\n",
       "      <td>22.612647</td>\n",
       "      <td>0.296607</td>\n",
       "      <td>0.226063</td>\n",
       "      <td>45.283560</td>\n",
       "      <td>7.698018</td>\n",
       "      <td>0.215320</td>\n",
       "    </tr>\n",
       "    <tr>\n",
       "      <th>min</th>\n",
       "      <td>0.080000</td>\n",
       "      <td>0.000000</td>\n",
       "      <td>0.000000</td>\n",
       "      <td>55.120000</td>\n",
       "      <td>10.300000</td>\n",
       "      <td>0.000000</td>\n",
       "    </tr>\n",
       "    <tr>\n",
       "      <th>25%</th>\n",
       "      <td>25.000000</td>\n",
       "      <td>0.000000</td>\n",
       "      <td>0.000000</td>\n",
       "      <td>77.245000</td>\n",
       "      <td>23.800000</td>\n",
       "      <td>0.000000</td>\n",
       "    </tr>\n",
       "    <tr>\n",
       "      <th>50%</th>\n",
       "      <td>45.000000</td>\n",
       "      <td>0.000000</td>\n",
       "      <td>0.000000</td>\n",
       "      <td>91.885000</td>\n",
       "      <td>28.400000</td>\n",
       "      <td>0.000000</td>\n",
       "    </tr>\n",
       "    <tr>\n",
       "      <th>75%</th>\n",
       "      <td>61.000000</td>\n",
       "      <td>0.000000</td>\n",
       "      <td>0.000000</td>\n",
       "      <td>114.090000</td>\n",
       "      <td>32.800000</td>\n",
       "      <td>0.000000</td>\n",
       "    </tr>\n",
       "    <tr>\n",
       "      <th>max</th>\n",
       "      <td>82.000000</td>\n",
       "      <td>1.000000</td>\n",
       "      <td>1.000000</td>\n",
       "      <td>271.740000</td>\n",
       "      <td>97.600000</td>\n",
       "      <td>1.000000</td>\n",
       "    </tr>\n",
       "  </tbody>\n",
       "</table>\n",
       "</div>"
      ],
      "text/plain": [
       "               age  hypertension  heart_disease  avg_glucose_level  \\\n",
       "count  5110.000000   5110.000000    5110.000000        5110.000000   \n",
       "mean     43.226614      0.097456       0.054012         106.147677   \n",
       "std      22.612647      0.296607       0.226063          45.283560   \n",
       "min       0.080000      0.000000       0.000000          55.120000   \n",
       "25%      25.000000      0.000000       0.000000          77.245000   \n",
       "50%      45.000000      0.000000       0.000000          91.885000   \n",
       "75%      61.000000      0.000000       0.000000         114.090000   \n",
       "max      82.000000      1.000000       1.000000         271.740000   \n",
       "\n",
       "               bmi       stroke  \n",
       "count  5110.000000  5110.000000  \n",
       "mean     28.893237     0.048728  \n",
       "std       7.698018     0.215320  \n",
       "min      10.300000     0.000000  \n",
       "25%      23.800000     0.000000  \n",
       "50%      28.400000     0.000000  \n",
       "75%      32.800000     0.000000  \n",
       "max      97.600000     1.000000  "
      ]
     },
     "execution_count": 9,
     "metadata": {},
     "output_type": "execute_result"
    }
   ],
   "source": [
    "data.describe()"
   ]
  },
  {
   "cell_type": "code",
   "execution_count": 10,
   "metadata": {
    "id": "LbLwyjwI4rfY"
   },
   "outputs": [],
   "source": [
    "data = data[data['smoking_status'].notnull()]"
   ]
  },
  {
   "cell_type": "code",
   "execution_count": 11,
   "metadata": {
    "colab": {
     "base_uri": "https://localhost:8080/",
     "height": 423
    },
    "id": "X4_JuRBFqq7z",
    "outputId": "8d29dd68-12ab-4aed-c3e4-ea93a0064090"
   },
   "outputs": [
    {
     "data": {
      "text/html": [
       "<div>\n",
       "<style scoped>\n",
       "    .dataframe tbody tr th:only-of-type {\n",
       "        vertical-align: middle;\n",
       "    }\n",
       "\n",
       "    .dataframe tbody tr th {\n",
       "        vertical-align: top;\n",
       "    }\n",
       "\n",
       "    .dataframe thead th {\n",
       "        text-align: right;\n",
       "    }\n",
       "</style>\n",
       "<table border=\"1\" class=\"dataframe\">\n",
       "  <thead>\n",
       "    <tr style=\"text-align: right;\">\n",
       "      <th></th>\n",
       "      <th>gender</th>\n",
       "      <th>age</th>\n",
       "      <th>hypertension</th>\n",
       "      <th>heart_disease</th>\n",
       "      <th>ever_married</th>\n",
       "      <th>work_type</th>\n",
       "      <th>Residence_type</th>\n",
       "      <th>avg_glucose_level</th>\n",
       "      <th>bmi</th>\n",
       "      <th>smoking_status</th>\n",
       "      <th>stroke</th>\n",
       "    </tr>\n",
       "  </thead>\n",
       "  <tbody>\n",
       "    <tr>\n",
       "      <th>0</th>\n",
       "      <td>Male</td>\n",
       "      <td>67.0</td>\n",
       "      <td>0</td>\n",
       "      <td>1</td>\n",
       "      <td>Yes</td>\n",
       "      <td>Private</td>\n",
       "      <td>Urban</td>\n",
       "      <td>228.69</td>\n",
       "      <td>36.600000</td>\n",
       "      <td>formerly smoked</td>\n",
       "      <td>1</td>\n",
       "    </tr>\n",
       "    <tr>\n",
       "      <th>1</th>\n",
       "      <td>Female</td>\n",
       "      <td>61.0</td>\n",
       "      <td>0</td>\n",
       "      <td>0</td>\n",
       "      <td>Yes</td>\n",
       "      <td>Self-employed</td>\n",
       "      <td>Rural</td>\n",
       "      <td>202.21</td>\n",
       "      <td>28.893237</td>\n",
       "      <td>never smoked</td>\n",
       "      <td>1</td>\n",
       "    </tr>\n",
       "    <tr>\n",
       "      <th>2</th>\n",
       "      <td>Male</td>\n",
       "      <td>80.0</td>\n",
       "      <td>0</td>\n",
       "      <td>1</td>\n",
       "      <td>Yes</td>\n",
       "      <td>Private</td>\n",
       "      <td>Rural</td>\n",
       "      <td>105.92</td>\n",
       "      <td>32.500000</td>\n",
       "      <td>never smoked</td>\n",
       "      <td>1</td>\n",
       "    </tr>\n",
       "    <tr>\n",
       "      <th>3</th>\n",
       "      <td>Female</td>\n",
       "      <td>49.0</td>\n",
       "      <td>0</td>\n",
       "      <td>0</td>\n",
       "      <td>Yes</td>\n",
       "      <td>Private</td>\n",
       "      <td>Urban</td>\n",
       "      <td>171.23</td>\n",
       "      <td>34.400000</td>\n",
       "      <td>smokes</td>\n",
       "      <td>1</td>\n",
       "    </tr>\n",
       "    <tr>\n",
       "      <th>4</th>\n",
       "      <td>Female</td>\n",
       "      <td>79.0</td>\n",
       "      <td>1</td>\n",
       "      <td>0</td>\n",
       "      <td>Yes</td>\n",
       "      <td>Self-employed</td>\n",
       "      <td>Rural</td>\n",
       "      <td>174.12</td>\n",
       "      <td>24.000000</td>\n",
       "      <td>never smoked</td>\n",
       "      <td>1</td>\n",
       "    </tr>\n",
       "    <tr>\n",
       "      <th>...</th>\n",
       "      <td>...</td>\n",
       "      <td>...</td>\n",
       "      <td>...</td>\n",
       "      <td>...</td>\n",
       "      <td>...</td>\n",
       "      <td>...</td>\n",
       "      <td>...</td>\n",
       "      <td>...</td>\n",
       "      <td>...</td>\n",
       "      <td>...</td>\n",
       "      <td>...</td>\n",
       "    </tr>\n",
       "    <tr>\n",
       "      <th>5105</th>\n",
       "      <td>Female</td>\n",
       "      <td>80.0</td>\n",
       "      <td>1</td>\n",
       "      <td>0</td>\n",
       "      <td>Yes</td>\n",
       "      <td>Private</td>\n",
       "      <td>Urban</td>\n",
       "      <td>83.75</td>\n",
       "      <td>28.893237</td>\n",
       "      <td>never smoked</td>\n",
       "      <td>0</td>\n",
       "    </tr>\n",
       "    <tr>\n",
       "      <th>5106</th>\n",
       "      <td>Female</td>\n",
       "      <td>81.0</td>\n",
       "      <td>0</td>\n",
       "      <td>0</td>\n",
       "      <td>Yes</td>\n",
       "      <td>Self-employed</td>\n",
       "      <td>Urban</td>\n",
       "      <td>125.20</td>\n",
       "      <td>40.000000</td>\n",
       "      <td>never smoked</td>\n",
       "      <td>0</td>\n",
       "    </tr>\n",
       "    <tr>\n",
       "      <th>5107</th>\n",
       "      <td>Female</td>\n",
       "      <td>35.0</td>\n",
       "      <td>0</td>\n",
       "      <td>0</td>\n",
       "      <td>Yes</td>\n",
       "      <td>Self-employed</td>\n",
       "      <td>Rural</td>\n",
       "      <td>82.99</td>\n",
       "      <td>30.600000</td>\n",
       "      <td>never smoked</td>\n",
       "      <td>0</td>\n",
       "    </tr>\n",
       "    <tr>\n",
       "      <th>5108</th>\n",
       "      <td>Male</td>\n",
       "      <td>51.0</td>\n",
       "      <td>0</td>\n",
       "      <td>0</td>\n",
       "      <td>Yes</td>\n",
       "      <td>Private</td>\n",
       "      <td>Rural</td>\n",
       "      <td>166.29</td>\n",
       "      <td>25.600000</td>\n",
       "      <td>formerly smoked</td>\n",
       "      <td>0</td>\n",
       "    </tr>\n",
       "    <tr>\n",
       "      <th>5109</th>\n",
       "      <td>Female</td>\n",
       "      <td>44.0</td>\n",
       "      <td>0</td>\n",
       "      <td>0</td>\n",
       "      <td>Yes</td>\n",
       "      <td>Govt_job</td>\n",
       "      <td>Urban</td>\n",
       "      <td>85.28</td>\n",
       "      <td>26.200000</td>\n",
       "      <td>Unknown</td>\n",
       "      <td>0</td>\n",
       "    </tr>\n",
       "  </tbody>\n",
       "</table>\n",
       "<p>5110 rows × 11 columns</p>\n",
       "</div>"
      ],
      "text/plain": [
       "      gender   age  hypertension  heart_disease ever_married      work_type  \\\n",
       "0       Male  67.0             0              1          Yes        Private   \n",
       "1     Female  61.0             0              0          Yes  Self-employed   \n",
       "2       Male  80.0             0              1          Yes        Private   \n",
       "3     Female  49.0             0              0          Yes        Private   \n",
       "4     Female  79.0             1              0          Yes  Self-employed   \n",
       "...      ...   ...           ...            ...          ...            ...   \n",
       "5105  Female  80.0             1              0          Yes        Private   \n",
       "5106  Female  81.0             0              0          Yes  Self-employed   \n",
       "5107  Female  35.0             0              0          Yes  Self-employed   \n",
       "5108    Male  51.0             0              0          Yes        Private   \n",
       "5109  Female  44.0             0              0          Yes       Govt_job   \n",
       "\n",
       "     Residence_type  avg_glucose_level        bmi   smoking_status  stroke  \n",
       "0             Urban             228.69  36.600000  formerly smoked       1  \n",
       "1             Rural             202.21  28.893237     never smoked       1  \n",
       "2             Rural             105.92  32.500000     never smoked       1  \n",
       "3             Urban             171.23  34.400000           smokes       1  \n",
       "4             Rural             174.12  24.000000     never smoked       1  \n",
       "...             ...                ...        ...              ...     ...  \n",
       "5105          Urban              83.75  28.893237     never smoked       0  \n",
       "5106          Urban             125.20  40.000000     never smoked       0  \n",
       "5107          Rural              82.99  30.600000     never smoked       0  \n",
       "5108          Rural             166.29  25.600000  formerly smoked       0  \n",
       "5109          Urban              85.28  26.200000          Unknown       0  \n",
       "\n",
       "[5110 rows x 11 columns]"
      ]
     },
     "execution_count": 11,
     "metadata": {},
     "output_type": "execute_result"
    }
   ],
   "source": [
    "data"
   ]
  },
  {
   "cell_type": "code",
   "execution_count": 12,
   "metadata": {
    "colab": {
     "base_uri": "https://localhost:8080/",
     "height": 353
    },
    "id": "BsBKSMVjngDS",
    "outputId": "4738baa6-719d-4b00-cc68-2fb49080fe34"
   },
   "outputs": [
    {
     "name": "stderr",
     "output_type": "stream",
     "text": [
      "C:\\Users\\shubhendu\\.conda\\envs\\strokeprediction\\lib\\site-packages\\seaborn\\_decorators.py:43: FutureWarning: Pass the following variable as a keyword arg: x. From version 0.12, the only valid positional argument will be `data`, and passing other arguments without an explicit keyword will result in an error or misinterpretation.\n",
      "  FutureWarning\n"
     ]
    },
    {
     "data": {
      "text/plain": [
       "<AxesSubplot:xlabel='work_type', ylabel='count'>"
      ]
     },
     "execution_count": 12,
     "metadata": {},
     "output_type": "execute_result"
    },
    {
     "data": {
      "image/png": "[encoded data removed]",
      "text/plain": [
       "<Figure size 432x288 with 1 Axes>"
      ]
     },
     "metadata": {
      "needs_background": "light"
     },
     "output_type": "display_data"
    }
   ],
   "source": [
    "sns.countplot(data['work_type'])"
   ]
  },
  {
   "cell_type": "code",
   "execution_count": 13,
   "metadata": {
    "colab": {
     "base_uri": "https://localhost:8080/",
     "height": 352
    },
    "id": "y5GNCWPsn3F-",
    "outputId": "9de21cc2-0865-4c1f-dd5c-8eaa17ee5bfb"
   },
   "outputs": [
    {
     "name": "stderr",
     "output_type": "stream",
     "text": [
      "C:\\Users\\shubhendu\\.conda\\envs\\strokeprediction\\lib\\site-packages\\seaborn\\_decorators.py:43: FutureWarning: Pass the following variable as a keyword arg: x. From version 0.12, the only valid positional argument will be `data`, and passing other arguments without an explicit keyword will result in an error or misinterpretation.\n",
      "  FutureWarning\n"
     ]
    },
    {
     "data": {
      "text/plain": [
       "<AxesSubplot:xlabel='Residence_type', ylabel='count'>"
      ]
     },
     "execution_count": 13,
     "metadata": {},
     "output_type": "execute_result"
    },
    {
     "data": {
      "image/png": "[encoded data removed]",
      "text/plain": [
       "<Figure size 432x288 with 1 Axes>"
      ]
     },
     "metadata": {
      "needs_background": "light"
     },
     "output_type": "display_data"
    }
   ],
   "source": [
    "sns.countplot(data['Residence_type'])"
   ]
  },
  {
   "cell_type": "code",
   "execution_count": 14,
   "metadata": {
    "colab": {
     "base_uri": "https://localhost:8080/",
     "height": 352
    },
    "id": "Thn323EEn5Jj",
    "outputId": "928fb7e0-b52e-4f33-b24b-be5b80f702de"
   },
   "outputs": [
    {
     "name": "stderr",
     "output_type": "stream",
     "text": [
      "C:\\Users\\shubhendu\\.conda\\envs\\strokeprediction\\lib\\site-packages\\seaborn\\_decorators.py:43: FutureWarning: Pass the following variable as a keyword arg: x. From version 0.12, the only valid positional argument will be `data`, and passing other arguments without an explicit keyword will result in an error or misinterpretation.\n",
      "  FutureWarning\n"
     ]
    },
    {
     "data": {
      "text/plain": [
       "<AxesSubplot:xlabel='smoking_status', ylabel='count'>"
      ]
     },
     "execution_count": 14,
     "metadata": {},
     "output_type": "execute_result"
    },
    {
     "data": {
      "image/png": "[encoded data removed]",
      "text/plain": [
       "<Figure size 432x288 with 1 Axes>"
      ]
     },
     "metadata": {
      "needs_background": "light"
     },
     "output_type": "display_data"
    }
   ],
   "source": [
    "sns.countplot(data['smoking_status'])"
   ]
  },
  {
   "cell_type": "code",
   "execution_count": 15,
   "metadata": {
    "colab": {
     "base_uri": "https://localhost:8080/",
     "height": 351
    },
    "id": "4QW13Yz6n7Ba",
    "outputId": "b0c82ea9-71fe-4566-a1dd-88f60ac7a43f"
   },
   "outputs": [
    {
     "name": "stderr",
     "output_type": "stream",
     "text": [
      "C:\\Users\\shubhendu\\.conda\\envs\\strokeprediction\\lib\\site-packages\\seaborn\\_decorators.py:43: FutureWarning: Pass the following variable as a keyword arg: x. From version 0.12, the only valid positional argument will be `data`, and passing other arguments without an explicit keyword will result in an error or misinterpretation.\n",
      "  FutureWarning\n"
     ]
    },
    {
     "data": {
      "text/plain": [
       "<AxesSubplot:xlabel='stroke', ylabel='count'>"
      ]
     },
     "execution_count": 15,
     "metadata": {},
     "output_type": "execute_result"
    },
    {
     "data": {
      "image/png": "[encoded data removed]",
      "text/plain": [
       "<Figure size 432x288 with 1 Axes>"
      ]
     },
     "metadata": {
      "needs_background": "light"
     },
     "output_type": "display_data"
    }
   ],
   "source": [
    "sns.countplot(data['stroke'])"
   ]
  },
  {
   "cell_type": "code",
   "execution_count": 16,
   "metadata": {
    "colab": {
     "base_uri": "https://localhost:8080/",
     "height": 355
    },
    "id": "g5iUTXVan8y1",
    "outputId": "ae87ebae-0942-475a-fc01-fb202314bfcb"
   },
   "outputs": [
    {
     "name": "stderr",
     "output_type": "stream",
     "text": [
      "C:\\Users\\shubhendu\\.conda\\envs\\strokeprediction\\lib\\site-packages\\seaborn\\_decorators.py:43: FutureWarning: Pass the following variable as a keyword arg: x. From version 0.12, the only valid positional argument will be `data`, and passing other arguments without an explicit keyword will result in an error or misinterpretation.\n",
      "  FutureWarning\n"
     ]
    },
    {
     "data": {
      "text/plain": [
       "<AxesSubplot:xlabel='ever_married', ylabel='count'>"
      ]
     },
     "execution_count": 16,
     "metadata": {},
     "output_type": "execute_result"
    },
    {
     "data": {
      "image/png": "[encoded data removed]",
      "text/plain": [
       "<Figure size 432x288 with 1 Axes>"
      ]
     },
     "metadata": {
      "needs_background": "light"
     },
     "output_type": "display_data"
    }
   ],
   "source": [
    "sns.countplot(data['ever_married'])"
   ]
  },
  {
   "cell_type": "code",
   "execution_count": 17,
   "metadata": {
    "colab": {
     "base_uri": "https://localhost:8080/"
    },
    "id": "Q6Izanscn_PB",
    "outputId": "b6051dd6-a7fd-44e7-a859-dd3ef34066f2"
   },
   "outputs": [
    {
     "name": "stdout",
     "output_type": "stream",
     "text": [
      "55.12\n",
      "271.74\n"
     ]
    }
   ],
   "source": [
    "min_avg_glucose_level = min(data.avg_glucose_level)\n",
    "max_avg_glucose_level = max(data.avg_glucose_level)\n",
    "print(min_avg_glucose_level)\n",
    "print(max_avg_glucose_level)"
   ]
  },
  {
   "cell_type": "code",
   "execution_count": 18,
   "metadata": {
    "colab": {
     "base_uri": "https://localhost:8080/",
     "height": 351
    },
    "id": "Nrn5BpVIoBAE",
    "outputId": "033467b1-1e32-43d0-a48a-1e5884874cb9"
   },
   "outputs": [
    {
     "name": "stderr",
     "output_type": "stream",
     "text": [
      "C:\\Users\\shubhendu\\.conda\\envs\\strokeprediction\\lib\\site-packages\\seaborn\\distributions.py:2619: FutureWarning: `distplot` is a deprecated function and will be removed in a future version. Please adapt your code to use either `displot` (a figure-level function with similar flexibility) or `histplot` (an axes-level function for histograms).\n",
      "  warnings.warn(msg, FutureWarning)\n"
     ]
    },
    {
     "data": {
      "text/plain": [
       "<AxesSubplot:xlabel='age', ylabel='Density'>"
      ]
     },
     "execution_count": 18,
     "metadata": {},
     "output_type": "execute_result"
    },
    {
     "data": {
      "image/png": "[encoded data removed]",
      "text/plain": [
       "<Figure size 432x288 with 1 Axes>"
      ]
     },
     "metadata": {
      "needs_background": "light"
     },
     "output_type": "display_data"
    }
   ],
   "source": [
    "sns.distplot(data['age'])"
   ]
  },
  {
   "cell_type": "code",
   "execution_count": 19,
   "metadata": {
    "colab": {
     "base_uri": "https://localhost:8080/",
     "height": 352
    },
    "id": "uWUWmA-aoDWT",
    "outputId": "d8f2f1cf-5a72-4c1d-ecb3-a8ad8ea77822"
   },
   "outputs": [
    {
     "name": "stderr",
     "output_type": "stream",
     "text": [
      "C:\\Users\\shubhendu\\.conda\\envs\\strokeprediction\\lib\\site-packages\\seaborn\\distributions.py:2619: FutureWarning: `distplot` is a deprecated function and will be removed in a future version. Please adapt your code to use either `displot` (a figure-level function with similar flexibility) or `histplot` (an axes-level function for histograms).\n",
      "  warnings.warn(msg, FutureWarning)\n"
     ]
    },
    {
     "data": {
      "text/plain": [
       "<AxesSubplot:xlabel='avg_glucose_level', ylabel='Density'>"
      ]
     },
     "execution_count": 19,
     "metadata": {},
     "output_type": "execute_result"
    },
    {
     "data": {
      "image/png": "[encoded data removed]",
      "text/plain": [
       "<Figure size 432x288 with 1 Axes>"
      ]
     },
     "metadata": {
      "needs_background": "light"
     },
     "output_type": "display_data"
    }
   ],
   "source": [
    "sns.distplot(data['avg_glucose_level'])"
   ]
  },
  {
   "cell_type": "code",
   "execution_count": 20,
   "metadata": {
    "id": "CwXxElfRoE9R"
   },
   "outputs": [],
   "source": [
    "data['work_type'] = data['work_type'].map({'Private':0, 'Self-employed': 1, 'Govt_job':2, 'children':3, 'Never_worked':4})"
   ]
  },
  {
   "cell_type": "code",
   "execution_count": 21,
   "metadata": {
    "colab": {
     "base_uri": "https://localhost:8080/",
     "height": 423
    },
    "id": "7brG18YtqyLB",
    "outputId": "23450aa1-3ea6-4488-c2e2-139666ff5261"
   },
   "outputs": [
    {
     "data": {
      "text/html": [
       "<div>\n",
       "<style scoped>\n",
       "    .dataframe tbody tr th:only-of-type {\n",
       "        vertical-align: middle;\n",
       "    }\n",
       "\n",
       "    .dataframe tbody tr th {\n",
       "        vertical-align: top;\n",
       "    }\n",
       "\n",
       "    .dataframe thead th {\n",
       "        text-align: right;\n",
       "    }\n",
       "</style>\n",
       "<table border=\"1\" class=\"dataframe\">\n",
       "  <thead>\n",
       "    <tr style=\"text-align: right;\">\n",
       "      <th></th>\n",
       "      <th>gender</th>\n",
       "      <th>age</th>\n",
       "      <th>hypertension</th>\n",
       "      <th>heart_disease</th>\n",
       "      <th>ever_married</th>\n",
       "      <th>work_type</th>\n",
       "      <th>Residence_type</th>\n",
       "      <th>avg_glucose_level</th>\n",
       "      <th>bmi</th>\n",
       "      <th>smoking_status</th>\n",
       "      <th>stroke</th>\n",
       "    </tr>\n",
       "  </thead>\n",
       "  <tbody>\n",
       "    <tr>\n",
       "      <th>0</th>\n",
       "      <td>Male</td>\n",
       "      <td>67.0</td>\n",
       "      <td>0</td>\n",
       "      <td>1</td>\n",
       "      <td>Yes</td>\n",
       "      <td>0</td>\n",
       "      <td>Urban</td>\n",
       "      <td>228.69</td>\n",
       "      <td>36.600000</td>\n",
       "      <td>formerly smoked</td>\n",
       "      <td>1</td>\n",
       "    </tr>\n",
       "    <tr>\n",
       "      <th>1</th>\n",
       "      <td>Female</td>\n",
       "      <td>61.0</td>\n",
       "      <td>0</td>\n",
       "      <td>0</td>\n",
       "      <td>Yes</td>\n",
       "      <td>1</td>\n",
       "      <td>Rural</td>\n",
       "      <td>202.21</td>\n",
       "      <td>28.893237</td>\n",
       "      <td>never smoked</td>\n",
       "      <td>1</td>\n",
       "    </tr>\n",
       "    <tr>\n",
       "      <th>2</th>\n",
       "      <td>Male</td>\n",
       "      <td>80.0</td>\n",
       "      <td>0</td>\n",
       "      <td>1</td>\n",
       "      <td>Yes</td>\n",
       "      <td>0</td>\n",
       "      <td>Rural</td>\n",
       "      <td>105.92</td>\n",
       "      <td>32.500000</td>\n",
       "      <td>never smoked</td>\n",
       "      <td>1</td>\n",
       "    </tr>\n",
       "    <tr>\n",
       "      <th>3</th>\n",
       "      <td>Female</td>\n",
       "      <td>49.0</td>\n",
       "      <td>0</td>\n",
       "      <td>0</td>\n",
       "      <td>Yes</td>\n",
       "      <td>0</td>\n",
       "      <td>Urban</td>\n",
       "      <td>171.23</td>\n",
       "      <td>34.400000</td>\n",
       "      <td>smokes</td>\n",
       "      <td>1</td>\n",
       "    </tr>\n",
       "    <tr>\n",
       "      <th>4</th>\n",
       "      <td>Female</td>\n",
       "      <td>79.0</td>\n",
       "      <td>1</td>\n",
       "      <td>0</td>\n",
       "      <td>Yes</td>\n",
       "      <td>1</td>\n",
       "      <td>Rural</td>\n",
       "      <td>174.12</td>\n",
       "      <td>24.000000</td>\n",
       "      <td>never smoked</td>\n",
       "      <td>1</td>\n",
       "    </tr>\n",
       "    <tr>\n",
       "      <th>...</th>\n",
       "      <td>...</td>\n",
       "      <td>...</td>\n",
       "      <td>...</td>\n",
       "      <td>...</td>\n",
       "      <td>...</td>\n",
       "      <td>...</td>\n",
       "      <td>...</td>\n",
       "      <td>...</td>\n",
       "      <td>...</td>\n",
       "      <td>...</td>\n",
       "      <td>...</td>\n",
       "    </tr>\n",
       "    <tr>\n",
       "      <th>5105</th>\n",
       "      <td>Female</td>\n",
       "      <td>80.0</td>\n",
       "      <td>1</td>\n",
       "      <td>0</td>\n",
       "      <td>Yes</td>\n",
       "      <td>0</td>\n",
       "      <td>Urban</td>\n",
       "      <td>83.75</td>\n",
       "      <td>28.893237</td>\n",
       "      <td>never smoked</td>\n",
       "      <td>0</td>\n",
       "    </tr>\n",
       "    <tr>\n",
       "      <th>5106</th>\n",
       "      <td>Female</td>\n",
       "      <td>81.0</td>\n",
       "      <td>0</td>\n",
       "      <td>0</td>\n",
       "      <td>Yes</td>\n",
       "      <td>1</td>\n",
       "      <td>Urban</td>\n",
       "      <td>125.20</td>\n",
       "      <td>40.000000</td>\n",
       "      <td>never smoked</td>\n",
       "      <td>0</td>\n",
       "    </tr>\n",
       "    <tr>\n",
       "      <th>5107</th>\n",
       "      <td>Female</td>\n",
       "      <td>35.0</td>\n",
       "      <td>0</td>\n",
       "      <td>0</td>\n",
       "      <td>Yes</td>\n",
       "      <td>1</td>\n",
       "      <td>Rural</td>\n",
       "      <td>82.99</td>\n",
       "      <td>30.600000</td>\n",
       "      <td>never smoked</td>\n",
       "      <td>0</td>\n",
       "    </tr>\n",
       "    <tr>\n",
       "      <th>5108</th>\n",
       "      <td>Male</td>\n",
       "      <td>51.0</td>\n",
       "      <td>0</td>\n",
       "      <td>0</td>\n",
       "      <td>Yes</td>\n",
       "      <td>0</td>\n",
       "      <td>Rural</td>\n",
       "      <td>166.29</td>\n",
       "      <td>25.600000</td>\n",
       "      <td>formerly smoked</td>\n",
       "      <td>0</td>\n",
       "    </tr>\n",
       "    <tr>\n",
       "      <th>5109</th>\n",
       "      <td>Female</td>\n",
       "      <td>44.0</td>\n",
       "      <td>0</td>\n",
       "      <td>0</td>\n",
       "      <td>Yes</td>\n",
       "      <td>2</td>\n",
       "      <td>Urban</td>\n",
       "      <td>85.28</td>\n",
       "      <td>26.200000</td>\n",
       "      <td>Unknown</td>\n",
       "      <td>0</td>\n",
       "    </tr>\n",
       "  </tbody>\n",
       "</table>\n",
       "<p>5110 rows × 11 columns</p>\n",
       "</div>"
      ],
      "text/plain": [
       "      gender   age  hypertension  heart_disease ever_married  work_type  \\\n",
       "0       Male  67.0             0              1          Yes          0   \n",
       "1     Female  61.0             0              0          Yes          1   \n",
       "2       Male  80.0             0              1          Yes          0   \n",
       "3     Female  49.0             0              0          Yes          0   \n",
       "4     Female  79.0             1              0          Yes          1   \n",
       "...      ...   ...           ...            ...          ...        ...   \n",
       "5105  Female  80.0             1              0          Yes          0   \n",
       "5106  Female  81.0             0              0          Yes          1   \n",
       "5107  Female  35.0             0              0          Yes          1   \n",
       "5108    Male  51.0             0              0          Yes          0   \n",
       "5109  Female  44.0             0              0          Yes          2   \n",
       "\n",
       "     Residence_type  avg_glucose_level        bmi   smoking_status  stroke  \n",
       "0             Urban             228.69  36.600000  formerly smoked       1  \n",
       "1             Rural             202.21  28.893237     never smoked       1  \n",
       "2             Rural             105.92  32.500000     never smoked       1  \n",
       "3             Urban             171.23  34.400000           smokes       1  \n",
       "4             Rural             174.12  24.000000     never smoked       1  \n",
       "...             ...                ...        ...              ...     ...  \n",
       "5105          Urban              83.75  28.893237     never smoked       0  \n",
       "5106          Urban             125.20  40.000000     never smoked       0  \n",
       "5107          Rural              82.99  30.600000     never smoked       0  \n",
       "5108          Rural             166.29  25.600000  formerly smoked       0  \n",
       "5109          Urban              85.28  26.200000          Unknown       0  \n",
       "\n",
       "[5110 rows x 11 columns]"
      ]
     },
     "execution_count": 21,
     "metadata": {},
     "output_type": "execute_result"
    }
   ],
   "source": [
    "data"
   ]
  },
  {
   "cell_type": "code",
   "execution_count": 22,
   "metadata": {
    "id": "NlTubytSoHqz"
   },
   "outputs": [],
   "source": [
    "data['gender'] = data['gender'].map({'Male':0, 'Female':1})\n",
    "data['Residence_type'] = data['Residence_type'].map({'Urban':0, 'Rural':1})\n",
    "data['smoking_status'] = data['smoking_status'].map({'formerly smoked':0, 'never smoked':1, 'smokes':2, 'Unknown':3})\n",
    "data['ever_married'] = data['ever_married'].map({'Yes':0, 'No':1})"
   ]
  },
  {
   "cell_type": "code",
   "execution_count": 23,
   "metadata": {
    "colab": {
     "base_uri": "https://localhost:8080/",
     "height": 423
    },
    "id": "6i75snw3qWSm",
    "outputId": "c6270d20-a92c-4d2c-82c4-1f365602af45"
   },
   "outputs": [
    {
     "data": {
      "text/html": [
       "<div>\n",
       "<style scoped>\n",
       "    .dataframe tbody tr th:only-of-type {\n",
       "        vertical-align: middle;\n",
       "    }\n",
       "\n",
       "    .dataframe tbody tr th {\n",
       "        vertical-align: top;\n",
       "    }\n",
       "\n",
       "    .dataframe thead th {\n",
       "        text-align: right;\n",
       "    }\n",
       "</style>\n",
       "<table border=\"1\" class=\"dataframe\">\n",
       "  <thead>\n",
       "    <tr style=\"text-align: right;\">\n",
       "      <th></th>\n",
       "      <th>gender</th>\n",
       "      <th>age</th>\n",
       "      <th>hypertension</th>\n",
       "      <th>heart_disease</th>\n",
       "      <th>ever_married</th>\n",
       "      <th>work_type</th>\n",
       "      <th>Residence_type</th>\n",
       "      <th>avg_glucose_level</th>\n",
       "      <th>bmi</th>\n",
       "      <th>smoking_status</th>\n",
       "      <th>stroke</th>\n",
       "    </tr>\n",
       "  </thead>\n",
       "  <tbody>\n",
       "    <tr>\n",
       "      <th>0</th>\n",
       "      <td>0.0</td>\n",
       "      <td>67.0</td>\n",
       "      <td>0</td>\n",
       "      <td>1</td>\n",
       "      <td>0</td>\n",
       "      <td>0</td>\n",
       "      <td>0</td>\n",
       "      <td>228.69</td>\n",
       "      <td>36.600000</td>\n",
       "      <td>0</td>\n",
       "      <td>1</td>\n",
       "    </tr>\n",
       "    <tr>\n",
       "      <th>1</th>\n",
       "      <td>1.0</td>\n",
       "      <td>61.0</td>\n",
       "      <td>0</td>\n",
       "      <td>0</td>\n",
       "      <td>0</td>\n",
       "      <td>1</td>\n",
       "      <td>1</td>\n",
       "      <td>202.21</td>\n",
       "      <td>28.893237</td>\n",
       "      <td>1</td>\n",
       "      <td>1</td>\n",
       "    </tr>\n",
       "    <tr>\n",
       "      <th>2</th>\n",
       "      <td>0.0</td>\n",
       "      <td>80.0</td>\n",
       "      <td>0</td>\n",
       "      <td>1</td>\n",
       "      <td>0</td>\n",
       "      <td>0</td>\n",
       "      <td>1</td>\n",
       "      <td>105.92</td>\n",
       "      <td>32.500000</td>\n",
       "      <td>1</td>\n",
       "      <td>1</td>\n",
       "    </tr>\n",
       "    <tr>\n",
       "      <th>3</th>\n",
       "      <td>1.0</td>\n",
       "      <td>49.0</td>\n",
       "      <td>0</td>\n",
       "      <td>0</td>\n",
       "      <td>0</td>\n",
       "      <td>0</td>\n",
       "      <td>0</td>\n",
       "      <td>171.23</td>\n",
       "      <td>34.400000</td>\n",
       "      <td>2</td>\n",
       "      <td>1</td>\n",
       "    </tr>\n",
       "    <tr>\n",
       "      <th>4</th>\n",
       "      <td>1.0</td>\n",
       "      <td>79.0</td>\n",
       "      <td>1</td>\n",
       "      <td>0</td>\n",
       "      <td>0</td>\n",
       "      <td>1</td>\n",
       "      <td>1</td>\n",
       "      <td>174.12</td>\n",
       "      <td>24.000000</td>\n",
       "      <td>1</td>\n",
       "      <td>1</td>\n",
       "    </tr>\n",
       "    <tr>\n",
       "      <th>...</th>\n",
       "      <td>...</td>\n",
       "      <td>...</td>\n",
       "      <td>...</td>\n",
       "      <td>...</td>\n",
       "      <td>...</td>\n",
       "      <td>...</td>\n",
       "      <td>...</td>\n",
       "      <td>...</td>\n",
       "      <td>...</td>\n",
       "      <td>...</td>\n",
       "      <td>...</td>\n",
       "    </tr>\n",
       "    <tr>\n",
       "      <th>5105</th>\n",
       "      <td>1.0</td>\n",
       "      <td>80.0</td>\n",
       "      <td>1</td>\n",
       "      <td>0</td>\n",
       "      <td>0</td>\n",
       "      <td>0</td>\n",
       "      <td>0</td>\n",
       "      <td>83.75</td>\n",
       "      <td>28.893237</td>\n",
       "      <td>1</td>\n",
       "      <td>0</td>\n",
       "    </tr>\n",
       "    <tr>\n",
       "      <th>5106</th>\n",
       "      <td>1.0</td>\n",
       "      <td>81.0</td>\n",
       "      <td>0</td>\n",
       "      <td>0</td>\n",
       "      <td>0</td>\n",
       "      <td>1</td>\n",
       "      <td>0</td>\n",
       "      <td>125.20</td>\n",
       "      <td>40.000000</td>\n",
       "      <td>1</td>\n",
       "      <td>0</td>\n",
       "    </tr>\n",
       "    <tr>\n",
       "      <th>5107</th>\n",
       "      <td>1.0</td>\n",
       "      <td>35.0</td>\n",
       "      <td>0</td>\n",
       "      <td>0</td>\n",
       "      <td>0</td>\n",
       "      <td>1</td>\n",
       "      <td>1</td>\n",
       "      <td>82.99</td>\n",
       "      <td>30.600000</td>\n",
       "      <td>1</td>\n",
       "      <td>0</td>\n",
       "    </tr>\n",
       "    <tr>\n",
       "      <th>5108</th>\n",
       "      <td>0.0</td>\n",
       "      <td>51.0</td>\n",
       "      <td>0</td>\n",
       "      <td>0</td>\n",
       "      <td>0</td>\n",
       "      <td>0</td>\n",
       "      <td>1</td>\n",
       "      <td>166.29</td>\n",
       "      <td>25.600000</td>\n",
       "      <td>0</td>\n",
       "      <td>0</td>\n",
       "    </tr>\n",
       "    <tr>\n",
       "      <th>5109</th>\n",
       "      <td>1.0</td>\n",
       "      <td>44.0</td>\n",
       "      <td>0</td>\n",
       "      <td>0</td>\n",
       "      <td>0</td>\n",
       "      <td>2</td>\n",
       "      <td>0</td>\n",
       "      <td>85.28</td>\n",
       "      <td>26.200000</td>\n",
       "      <td>3</td>\n",
       "      <td>0</td>\n",
       "    </tr>\n",
       "  </tbody>\n",
       "</table>\n",
       "<p>5110 rows × 11 columns</p>\n",
       "</div>"
      ],
      "text/plain": [
       "      gender   age  hypertension  heart_disease  ever_married  work_type  \\\n",
       "0        0.0  67.0             0              1             0          0   \n",
       "1        1.0  61.0             0              0             0          1   \n",
       "2        0.0  80.0             0              1             0          0   \n",
       "3        1.0  49.0             0              0             0          0   \n",
       "4        1.0  79.0             1              0             0          1   \n",
       "...      ...   ...           ...            ...           ...        ...   \n",
       "5105     1.0  80.0             1              0             0          0   \n",
       "5106     1.0  81.0             0              0             0          1   \n",
       "5107     1.0  35.0             0              0             0          1   \n",
       "5108     0.0  51.0             0              0             0          0   \n",
       "5109     1.0  44.0             0              0             0          2   \n",
       "\n",
       "      Residence_type  avg_glucose_level        bmi  smoking_status  stroke  \n",
       "0                  0             228.69  36.600000               0       1  \n",
       "1                  1             202.21  28.893237               1       1  \n",
       "2                  1             105.92  32.500000               1       1  \n",
       "3                  0             171.23  34.400000               2       1  \n",
       "4                  1             174.12  24.000000               1       1  \n",
       "...              ...                ...        ...             ...     ...  \n",
       "5105               0              83.75  28.893237               1       0  \n",
       "5106               0             125.20  40.000000               1       0  \n",
       "5107               1              82.99  30.600000               1       0  \n",
       "5108               1             166.29  25.600000               0       0  \n",
       "5109               0              85.28  26.200000               3       0  \n",
       "\n",
       "[5110 rows x 11 columns]"
      ]
     },
     "execution_count": 23,
     "metadata": {},
     "output_type": "execute_result"
    }
   ],
   "source": [
    "data"
   ]
  },
  {
   "cell_type": "code",
   "execution_count": 24,
   "metadata": {
    "colab": {
     "base_uri": "https://localhost:8080/",
     "height": 694
    },
    "id": "r1z_-2NwoJbq",
    "outputId": "ba402d1d-ffa1-43b9-f2b0-fe791400b65b"
   },
   "outputs": [
    {
     "data": {
      "text/plain": [
       "<AxesSubplot:>"
      ]
     },
     "execution_count": 24,
     "metadata": {},
     "output_type": "execute_result"
    },
    {
     "data": {
      "image/png": "[encoded data removed]",
      "text/plain": [
       "<Figure size 1152x720 with 2 Axes>"
      ]
     },
     "metadata": {
      "needs_background": "light"
     },
     "output_type": "display_data"
    }
   ],
   "source": [
    "plt.figure(figsize=(16,10))\n",
    "sns.heatmap(data.corr(method='pearson'), annot=True)"
   ]
  },
  {
   "cell_type": "code",
   "execution_count": 25,
   "metadata": {
    "colab": {
     "base_uri": "https://localhost:8080/",
     "height": 296
    },
    "id": "wGUqkKwNoMJS",
    "outputId": "ba20ea84-3a3a-44dc-bc08-29b46bf1db88"
   },
   "outputs": [
    {
     "data": {
      "text/plain": [
       "<AxesSubplot:xlabel='age', ylabel='avg_glucose_level'>"
      ]
     },
     "execution_count": 25,
     "metadata": {},
     "output_type": "execute_result"
    },
    {
     "data": {
      "image/png": "[encoded data removed]",
      "text/plain": [
       "<Figure size 432x288 with 1 Axes>"
      ]
     },
     "metadata": {
      "needs_background": "light"
     },
     "output_type": "display_data"
    }
   ],
   "source": [
    "sns.scatterplot(x=data['age'], y=data['avg_glucose_level'])"
   ]
  },
  {
   "cell_type": "code",
   "execution_count": 26,
   "metadata": {
    "colab": {
     "base_uri": "https://localhost:8080/",
     "height": 386
    },
    "id": "oq-u6ooyoPkT",
    "outputId": "3b1019c5-112e-4790-c4c7-cd839f5a3036"
   },
   "outputs": [
    {
     "data": {
      "text/plain": [
       "<seaborn.axisgrid.FacetGrid at 0x2972f537108>"
      ]
     },
     "execution_count": 26,
     "metadata": {},
     "output_type": "execute_result"
    },
    {
     "data": {
      "image/png": "[encoded data removed]",
      "text/plain": [
       "<Figure size 419.125x360 with 1 Axes>"
      ]
     },
     "metadata": {
      "needs_background": "light"
     },
     "output_type": "display_data"
    }
   ],
   "source": [
    "sns.catplot(x='heart_disease',y='age', hue=\"work_type\", kind=\"bar\", data=data)"
   ]
  },
  {
   "cell_type": "code",
   "execution_count": 27,
   "metadata": {
    "colab": {
     "base_uri": "https://localhost:8080/",
     "height": 386
    },
    "id": "iKBjQaWSoTdu",
    "outputId": "9387be6d-5cd1-4d40-cc4d-e878be7bbd4f"
   },
   "outputs": [
    {
     "data": {
      "text/plain": [
       "<seaborn.axisgrid.FacetGrid at 0x2972f124d48>"
      ]
     },
     "execution_count": 27,
     "metadata": {},
     "output_type": "execute_result"
    },
    {
     "data": {
      "image/png": "[encoded data removed]",
      "text/plain": [
       "<Figure size 419.125x360 with 1 Axes>"
      ]
     },
     "metadata": {
      "needs_background": "light"
     },
     "output_type": "display_data"
    }
   ],
   "source": [
    "sns.catplot(x='hypertension',y='age', hue=\"work_type\", kind=\"bar\", data=data)"
   ]
  },
  {
   "cell_type": "code",
   "execution_count": 28,
   "metadata": {
    "colab": {
     "base_uri": "https://localhost:8080/",
     "height": 386
    },
    "id": "Z4Pi_q9RoVhu",
    "outputId": "e00f7cb4-8e41-4a77-90f1-03b45528caa7"
   },
   "outputs": [
    {
     "data": {
      "text/plain": [
       "<seaborn.axisgrid.FacetGrid at 0x2972f18cc88>"
      ]
     },
     "execution_count": 28,
     "metadata": {},
     "output_type": "execute_result"
    },
    {
     "data": {
      "image/png": "[encoded data removed]",
      "text/plain": [
       "<Figure size 419.125x360 with 1 Axes>"
      ]
     },
     "metadata": {
      "needs_background": "light"
     },
     "output_type": "display_data"
    }
   ],
   "source": [
    "sns.catplot(x=\"smoking_status\", y=\"stroke\", hue=\"work_type\", kind=\"bar\", data=data)"
   ]
  },
  {
   "cell_type": "code",
   "execution_count": 29,
   "metadata": {
    "colab": {
     "base_uri": "https://localhost:8080/",
     "height": 386
    },
    "id": "NNK9LdcfoXnW",
    "outputId": "006d8726-4d13-4021-9566-aa244aeab47d"
   },
   "outputs": [
    {
     "data": {
      "text/plain": [
       "<seaborn.axisgrid.FacetGrid at 0x2972f34c888>"
      ]
     },
     "execution_count": 29,
     "metadata": {},
     "output_type": "execute_result"
    },
    {
     "data": {
      "image/png": "[encoded data removed]",
      "text/plain": [
       "<Figure size 419.125x360 with 1 Axes>"
      ]
     },
     "metadata": {
      "needs_background": "light"
     },
     "output_type": "display_data"
    }
   ],
   "source": [
    "sns.catplot(x=\"hypertension\", y=\"stroke\", hue=\"work_type\", kind=\"bar\", data=data)"
   ]
  },
  {
   "cell_type": "code",
   "execution_count": 30,
   "metadata": {
    "colab": {
     "base_uri": "https://localhost:8080/",
     "height": 386
    },
    "id": "PfFW0gG-oZTi",
    "outputId": "77d50d2b-b686-443c-a42d-673c385410d4"
   },
   "outputs": [
    {
     "data": {
      "text/plain": [
       "<seaborn.axisgrid.FacetGrid at 0x2972f81a708>"
      ]
     },
     "execution_count": 30,
     "metadata": {},
     "output_type": "execute_result"
    },
    {
     "data": {
      "image/png": "[encoded data removed]",
      "text/plain": [
       "<Figure size 419.125x360 with 1 Axes>"
      ]
     },
     "metadata": {
      "needs_background": "light"
     },
     "output_type": "display_data"
    }
   ],
   "source": [
    "sns.catplot(x=\"Residence_type\", y=\"stroke\", hue=\"work_type\", kind=\"bar\", data=data)"
   ]
  },
  {
   "cell_type": "code",
   "execution_count": 31,
   "metadata": {
    "colab": {
     "base_uri": "https://localhost:8080/",
     "height": 386
    },
    "id": "Wp1-rcbUobCv",
    "outputId": "71ddb999-f464-45e1-cf29-2b506a73dfb6"
   },
   "outputs": [
    {
     "data": {
      "text/plain": [
       "<seaborn.axisgrid.FacetGrid at 0x2972f8be8c8>"
      ]
     },
     "execution_count": 31,
     "metadata": {},
     "output_type": "execute_result"
    },
    {
     "data": {
      "image/png": "[encoded data removed]",
      "text/plain": [
       "<Figure size 360x360 with 1 Axes>"
      ]
     },
     "metadata": {
      "needs_background": "light"
     },
     "output_type": "display_data"
    }
   ],
   "source": [
    "sns.catplot(x='stroke', y=\"avg_glucose_level\", kind=\"box\", data=data)"
   ]
  },
  {
   "cell_type": "code",
   "execution_count": 32,
   "metadata": {
    "colab": {
     "base_uri": "https://localhost:8080/",
     "height": 386
    },
    "id": "tDeb28B4oc0e",
    "outputId": "253f4e2c-c1b7-4b99-a547-6f424f6eb772"
   },
   "outputs": [
    {
     "data": {
      "text/plain": [
       "<seaborn.axisgrid.FacetGrid at 0x2972f96cf88>"
      ]
     },
     "execution_count": 32,
     "metadata": {},
     "output_type": "execute_result"
    },
    {
     "data": {
      "image/png": "[encoded data removed]",
      "text/plain": [
       "<Figure size 411.875x360 with 1 Axes>"
      ]
     },
     "metadata": {
      "needs_background": "light"
     },
     "output_type": "display_data"
    }
   ],
   "source": [
    "sns.catplot(x='stroke', y=\"age\", hue = 'gender', kind=\"box\", data=data)"
   ]
  },
  {
   "cell_type": "code",
   "execution_count": 33,
   "metadata": {
    "colab": {
     "base_uri": "https://localhost:8080/",
     "height": 386
    },
    "id": "8GbxXQF4ofza",
    "outputId": "705307b9-a1f1-4d16-ec1e-772a689c2288"
   },
   "outputs": [
    {
     "data": {
      "text/plain": [
       "<seaborn.axisgrid.FacetGrid at 0x2972f8bee88>"
      ]
     },
     "execution_count": 33,
     "metadata": {},
     "output_type": "execute_result"
    },
    {
     "data": {
      "image/png": "[encoded data removed]",
      "text/plain": [
       "<Figure size 419.125x360 with 1 Axes>"
      ]
     },
     "metadata": {
      "needs_background": "light"
     },
     "output_type": "display_data"
    }
   ],
   "source": [
    "sns.catplot(x='stroke', y=\"age\", hue = 'work_type', kind=\"box\", data=data)"
   ]
  },
  {
   "cell_type": "code",
   "execution_count": 34,
   "metadata": {
    "colab": {
     "base_uri": "https://localhost:8080/"
    },
    "id": "WAmmQ6D_wENJ",
    "outputId": "89e894a7-b6fa-49fd-ef49-31f8c5524279"
   },
   "outputs": [
    {
     "data": {
      "text/plain": [
       "gender               1\n",
       "age                  0\n",
       "hypertension         0\n",
       "heart_disease        0\n",
       "ever_married         0\n",
       "work_type            0\n",
       "Residence_type       0\n",
       "avg_glucose_level    0\n",
       "bmi                  0\n",
       "smoking_status       0\n",
       "stroke               0\n",
       "dtype: int64"
      ]
     },
     "execution_count": 34,
     "metadata": {},
     "output_type": "execute_result"
    }
   ],
   "source": [
    "data.isnull().sum()"
   ]
  },
  {
   "cell_type": "code",
   "execution_count": 35,
   "metadata": {
    "id": "-p0ZA0NgwJDr"
   },
   "outputs": [],
   "source": [
    "data['gender'] = data.gender.fillna(0)"
   ]
  },
  {
   "cell_type": "code",
   "execution_count": 36,
   "metadata": {
    "colab": {
     "base_uri": "https://localhost:8080/"
    },
    "id": "PDBHkHTIwPyW",
    "outputId": "a541d471-05a1-4b92-b99f-8d9a19ca4d22"
   },
   "outputs": [
    {
     "data": {
      "text/plain": [
       "gender               0\n",
       "age                  0\n",
       "hypertension         0\n",
       "heart_disease        0\n",
       "ever_married         0\n",
       "work_type            0\n",
       "Residence_type       0\n",
       "avg_glucose_level    0\n",
       "bmi                  0\n",
       "smoking_status       0\n",
       "stroke               0\n",
       "dtype: int64"
      ]
     },
     "execution_count": 36,
     "metadata": {},
     "output_type": "execute_result"
    }
   ],
   "source": [
    "data.isnull().sum()"
   ]
  },
  {
   "cell_type": "code",
   "execution_count": 37,
   "metadata": {
    "id": "nSgeTnx_ohtS"
   },
   "outputs": [],
   "source": [
    "features = ['age',\n",
    " 'hypertension',\n",
    " 'heart_disease',\n",
    " 'ever_married',\n",
    " 'Residence_type',\n",
    " 'avg_glucose_level',\n",
    " 'bmi',\n",
    " 'gender',\n",
    " 'work_type',\n",
    " 'smoking_status']\n",
    "\n",
    "label = ['stroke']\n",
    "\n",
    "X = data[features]\n",
    "y = data[label]"
   ]
  },
  {
   "cell_type": "code",
   "execution_count": 38,
   "metadata": {
    "colab": {
     "base_uri": "https://localhost:8080/"
    },
    "id": "atkEo4blsqtC",
    "outputId": "4011b6d4-b0aa-421f-b362-1eeeee40d02d"
   },
   "outputs": [
    {
     "data": {
      "text/plain": [
       "1.0    2994\n",
       "0.0    2116\n",
       "Name: gender, dtype: int64"
      ]
     },
     "execution_count": 38,
     "metadata": {},
     "output_type": "execute_result"
    }
   ],
   "source": [
    "X['gender'].value_counts()"
   ]
  },
  {
   "cell_type": "code",
   "execution_count": 39,
   "metadata": {
    "id": "h70NrIjEwven"
   },
   "outputs": [],
   "source": [
    "from imblearn.over_sampling import SMOTE\n",
    "\n",
    "smote = SMOTE()\n",
    "X, y = smote.fit_resample(X, y)"
   ]
  },
  {
   "cell_type": "code",
   "execution_count": 53,
   "metadata": {},
   "outputs": [
    {
     "data": {
      "text/html": [
       "<div>\n",
       "<style scoped>\n",
       "    .dataframe tbody tr th:only-of-type {\n",
       "        vertical-align: middle;\n",
       "    }\n",
       "\n",
       "    .dataframe tbody tr th {\n",
       "        vertical-align: top;\n",
       "    }\n",
       "\n",
       "    .dataframe thead th {\n",
       "        text-align: right;\n",
       "    }\n",
       "</style>\n",
       "<table border=\"1\" class=\"dataframe\">\n",
       "  <thead>\n",
       "    <tr style=\"text-align: right;\">\n",
       "      <th></th>\n",
       "      <th>age</th>\n",
       "      <th>hypertension</th>\n",
       "      <th>heart_disease</th>\n",
       "      <th>ever_married</th>\n",
       "      <th>Residence_type</th>\n",
       "      <th>avg_glucose_level</th>\n",
       "      <th>bmi</th>\n",
       "      <th>gender</th>\n",
       "      <th>work_type</th>\n",
       "      <th>smoking_status</th>\n",
       "    </tr>\n",
       "  </thead>\n",
       "  <tbody>\n",
       "    <tr>\n",
       "      <th>0</th>\n",
       "      <td>67.0</td>\n",
       "      <td>0</td>\n",
       "      <td>1</td>\n",
       "      <td>0</td>\n",
       "      <td>0</td>\n",
       "      <td>228.69</td>\n",
       "      <td>36.600000</td>\n",
       "      <td>0.0</td>\n",
       "      <td>0</td>\n",
       "      <td>0</td>\n",
       "    </tr>\n",
       "    <tr>\n",
       "      <th>1</th>\n",
       "      <td>61.0</td>\n",
       "      <td>0</td>\n",
       "      <td>0</td>\n",
       "      <td>0</td>\n",
       "      <td>1</td>\n",
       "      <td>202.21</td>\n",
       "      <td>28.893237</td>\n",
       "      <td>1.0</td>\n",
       "      <td>1</td>\n",
       "      <td>1</td>\n",
       "    </tr>\n",
       "    <tr>\n",
       "      <th>2</th>\n",
       "      <td>80.0</td>\n",
       "      <td>0</td>\n",
       "      <td>1</td>\n",
       "      <td>0</td>\n",
       "      <td>1</td>\n",
       "      <td>105.92</td>\n",
       "      <td>32.500000</td>\n",
       "      <td>0.0</td>\n",
       "      <td>0</td>\n",
       "      <td>1</td>\n",
       "    </tr>\n",
       "    <tr>\n",
       "      <th>3</th>\n",
       "      <td>49.0</td>\n",
       "      <td>0</td>\n",
       "      <td>0</td>\n",
       "      <td>0</td>\n",
       "      <td>0</td>\n",
       "      <td>171.23</td>\n",
       "      <td>34.400000</td>\n",
       "      <td>1.0</td>\n",
       "      <td>0</td>\n",
       "      <td>2</td>\n",
       "    </tr>\n",
       "    <tr>\n",
       "      <th>4</th>\n",
       "      <td>79.0</td>\n",
       "      <td>1</td>\n",
       "      <td>0</td>\n",
       "      <td>0</td>\n",
       "      <td>1</td>\n",
       "      <td>174.12</td>\n",
       "      <td>24.000000</td>\n",
       "      <td>1.0</td>\n",
       "      <td>1</td>\n",
       "      <td>1</td>\n",
       "    </tr>\n",
       "    <tr>\n",
       "      <th>...</th>\n",
       "      <td>...</td>\n",
       "      <td>...</td>\n",
       "      <td>...</td>\n",
       "      <td>...</td>\n",
       "      <td>...</td>\n",
       "      <td>...</td>\n",
       "      <td>...</td>\n",
       "      <td>...</td>\n",
       "      <td>...</td>\n",
       "      <td>...</td>\n",
       "    </tr>\n",
       "    <tr>\n",
       "      <th>5105</th>\n",
       "      <td>80.0</td>\n",
       "      <td>1</td>\n",
       "      <td>0</td>\n",
       "      <td>0</td>\n",
       "      <td>0</td>\n",
       "      <td>83.75</td>\n",
       "      <td>28.893237</td>\n",
       "      <td>1.0</td>\n",
       "      <td>0</td>\n",
       "      <td>1</td>\n",
       "    </tr>\n",
       "    <tr>\n",
       "      <th>5106</th>\n",
       "      <td>81.0</td>\n",
       "      <td>0</td>\n",
       "      <td>0</td>\n",
       "      <td>0</td>\n",
       "      <td>0</td>\n",
       "      <td>125.20</td>\n",
       "      <td>40.000000</td>\n",
       "      <td>1.0</td>\n",
       "      <td>1</td>\n",
       "      <td>1</td>\n",
       "    </tr>\n",
       "    <tr>\n",
       "      <th>5107</th>\n",
       "      <td>35.0</td>\n",
       "      <td>0</td>\n",
       "      <td>0</td>\n",
       "      <td>0</td>\n",
       "      <td>1</td>\n",
       "      <td>82.99</td>\n",
       "      <td>30.600000</td>\n",
       "      <td>1.0</td>\n",
       "      <td>1</td>\n",
       "      <td>1</td>\n",
       "    </tr>\n",
       "    <tr>\n",
       "      <th>5108</th>\n",
       "      <td>51.0</td>\n",
       "      <td>0</td>\n",
       "      <td>0</td>\n",
       "      <td>0</td>\n",
       "      <td>1</td>\n",
       "      <td>166.29</td>\n",
       "      <td>25.600000</td>\n",
       "      <td>0.0</td>\n",
       "      <td>0</td>\n",
       "      <td>0</td>\n",
       "    </tr>\n",
       "    <tr>\n",
       "      <th>5109</th>\n",
       "      <td>44.0</td>\n",
       "      <td>0</td>\n",
       "      <td>0</td>\n",
       "      <td>0</td>\n",
       "      <td>0</td>\n",
       "      <td>85.28</td>\n",
       "      <td>26.200000</td>\n",
       "      <td>1.0</td>\n",
       "      <td>2</td>\n",
       "      <td>3</td>\n",
       "    </tr>\n",
       "  </tbody>\n",
       "</table>\n",
       "<p>5110 rows × 10 columns</p>\n",
       "</div>"
      ],
      "text/plain": [
       "       age  hypertension  heart_disease  ever_married  Residence_type  \\\n",
       "0     67.0             0              1             0               0   \n",
       "1     61.0             0              0             0               1   \n",
       "2     80.0             0              1             0               1   \n",
       "3     49.0             0              0             0               0   \n",
       "4     79.0             1              0             0               1   \n",
       "...    ...           ...            ...           ...             ...   \n",
       "5105  80.0             1              0             0               0   \n",
       "5106  81.0             0              0             0               0   \n",
       "5107  35.0             0              0             0               1   \n",
       "5108  51.0             0              0             0               1   \n",
       "5109  44.0             0              0             0               0   \n",
       "\n",
       "      avg_glucose_level        bmi  gender  work_type  smoking_status  \n",
       "0                228.69  36.600000     0.0          0               0  \n",
       "1                202.21  28.893237     1.0          1               1  \n",
       "2                105.92  32.500000     0.0          0               1  \n",
       "3                171.23  34.400000     1.0          0               2  \n",
       "4                174.12  24.000000     1.0          1               1  \n",
       "...                 ...        ...     ...        ...             ...  \n",
       "5105              83.75  28.893237     1.0          0               1  \n",
       "5106             125.20  40.000000     1.0          1               1  \n",
       "5107              82.99  30.600000     1.0          1               1  \n",
       "5108             166.29  25.600000     0.0          0               0  \n",
       "5109              85.28  26.200000     1.0          2               3  \n",
       "\n",
       "[5110 rows x 10 columns]"
      ]
     },
     "execution_count": 53,
     "metadata": {},
     "output_type": "execute_result"
    }
   ],
   "source": [
    "data[features]"
   ]
  },
  {
   "cell_type": "code",
   "execution_count": 50,
   "metadata": {},
   "outputs": [
    {
     "data": {
      "text/html": [
       "<div>\n",
       "<style scoped>\n",
       "    .dataframe tbody tr th:only-of-type {\n",
       "        vertical-align: middle;\n",
       "    }\n",
       "\n",
       "    .dataframe tbody tr th {\n",
       "        vertical-align: top;\n",
       "    }\n",
       "\n",
       "    .dataframe thead th {\n",
       "        text-align: right;\n",
       "    }\n",
       "</style>\n",
       "<table border=\"1\" class=\"dataframe\">\n",
       "  <thead>\n",
       "    <tr style=\"text-align: right;\">\n",
       "      <th></th>\n",
       "      <th>age</th>\n",
       "      <th>hypertension</th>\n",
       "      <th>heart_disease</th>\n",
       "      <th>ever_married</th>\n",
       "      <th>Residence_type</th>\n",
       "      <th>avg_glucose_level</th>\n",
       "      <th>bmi</th>\n",
       "      <th>gender</th>\n",
       "      <th>work_type</th>\n",
       "      <th>smoking_status</th>\n",
       "    </tr>\n",
       "  </thead>\n",
       "  <tbody>\n",
       "    <tr>\n",
       "      <th>0</th>\n",
       "      <td>67.000000</td>\n",
       "      <td>0</td>\n",
       "      <td>1</td>\n",
       "      <td>0</td>\n",
       "      <td>0</td>\n",
       "      <td>228.690000</td>\n",
       "      <td>36.600000</td>\n",
       "      <td>0.000000</td>\n",
       "      <td>0</td>\n",
       "      <td>0</td>\n",
       "    </tr>\n",
       "    <tr>\n",
       "      <th>1</th>\n",
       "      <td>61.000000</td>\n",
       "      <td>0</td>\n",
       "      <td>0</td>\n",
       "      <td>0</td>\n",
       "      <td>1</td>\n",
       "      <td>202.210000</td>\n",
       "      <td>28.893237</td>\n",
       "      <td>1.000000</td>\n",
       "      <td>1</td>\n",
       "      <td>1</td>\n",
       "    </tr>\n",
       "    <tr>\n",
       "      <th>2</th>\n",
       "      <td>80.000000</td>\n",
       "      <td>0</td>\n",
       "      <td>1</td>\n",
       "      <td>0</td>\n",
       "      <td>1</td>\n",
       "      <td>105.920000</td>\n",
       "      <td>32.500000</td>\n",
       "      <td>0.000000</td>\n",
       "      <td>0</td>\n",
       "      <td>1</td>\n",
       "    </tr>\n",
       "    <tr>\n",
       "      <th>3</th>\n",
       "      <td>49.000000</td>\n",
       "      <td>0</td>\n",
       "      <td>0</td>\n",
       "      <td>0</td>\n",
       "      <td>0</td>\n",
       "      <td>171.230000</td>\n",
       "      <td>34.400000</td>\n",
       "      <td>1.000000</td>\n",
       "      <td>0</td>\n",
       "      <td>2</td>\n",
       "    </tr>\n",
       "    <tr>\n",
       "      <th>4</th>\n",
       "      <td>79.000000</td>\n",
       "      <td>1</td>\n",
       "      <td>0</td>\n",
       "      <td>0</td>\n",
       "      <td>1</td>\n",
       "      <td>174.120000</td>\n",
       "      <td>24.000000</td>\n",
       "      <td>1.000000</td>\n",
       "      <td>1</td>\n",
       "      <td>1</td>\n",
       "    </tr>\n",
       "    <tr>\n",
       "      <th>...</th>\n",
       "      <td>...</td>\n",
       "      <td>...</td>\n",
       "      <td>...</td>\n",
       "      <td>...</td>\n",
       "      <td>...</td>\n",
       "      <td>...</td>\n",
       "      <td>...</td>\n",
       "      <td>...</td>\n",
       "      <td>...</td>\n",
       "      <td>...</td>\n",
       "    </tr>\n",
       "    <tr>\n",
       "      <th>9717</th>\n",
       "      <td>58.080400</td>\n",
       "      <td>0</td>\n",
       "      <td>0</td>\n",
       "      <td>0</td>\n",
       "      <td>0</td>\n",
       "      <td>113.717984</td>\n",
       "      <td>25.961060</td>\n",
       "      <td>1.000000</td>\n",
       "      <td>0</td>\n",
       "      <td>2</td>\n",
       "    </tr>\n",
       "    <tr>\n",
       "      <th>9718</th>\n",
       "      <td>73.305806</td>\n",
       "      <td>0</td>\n",
       "      <td>0</td>\n",
       "      <td>0</td>\n",
       "      <td>0</td>\n",
       "      <td>72.850317</td>\n",
       "      <td>32.063613</td>\n",
       "      <td>0.138839</td>\n",
       "      <td>0</td>\n",
       "      <td>1</td>\n",
       "    </tr>\n",
       "    <tr>\n",
       "      <th>9719</th>\n",
       "      <td>77.668453</td>\n",
       "      <td>0</td>\n",
       "      <td>0</td>\n",
       "      <td>0</td>\n",
       "      <td>0</td>\n",
       "      <td>172.119096</td>\n",
       "      <td>30.487035</td>\n",
       "      <td>0.000000</td>\n",
       "      <td>0</td>\n",
       "      <td>1</td>\n",
       "    </tr>\n",
       "    <tr>\n",
       "      <th>9720</th>\n",
       "      <td>78.684700</td>\n",
       "      <td>0</td>\n",
       "      <td>0</td>\n",
       "      <td>0</td>\n",
       "      <td>1</td>\n",
       "      <td>78.509290</td>\n",
       "      <td>23.785883</td>\n",
       "      <td>0.228233</td>\n",
       "      <td>0</td>\n",
       "      <td>0</td>\n",
       "    </tr>\n",
       "    <tr>\n",
       "      <th>9721</th>\n",
       "      <td>40.988188</td>\n",
       "      <td>0</td>\n",
       "      <td>0</td>\n",
       "      <td>0</td>\n",
       "      <td>1</td>\n",
       "      <td>60.094756</td>\n",
       "      <td>35.952626</td>\n",
       "      <td>0.668635</td>\n",
       "      <td>0</td>\n",
       "      <td>1</td>\n",
       "    </tr>\n",
       "  </tbody>\n",
       "</table>\n",
       "<p>9722 rows × 10 columns</p>\n",
       "</div>"
      ],
      "text/plain": [
       "            age  hypertension  heart_disease  ever_married  Residence_type  \\\n",
       "0     67.000000             0              1             0               0   \n",
       "1     61.000000             0              0             0               1   \n",
       "2     80.000000             0              1             0               1   \n",
       "3     49.000000             0              0             0               0   \n",
       "4     79.000000             1              0             0               1   \n",
       "...         ...           ...            ...           ...             ...   \n",
       "9717  58.080400             0              0             0               0   \n",
       "9718  73.305806             0              0             0               0   \n",
       "9719  77.668453             0              0             0               0   \n",
       "9720  78.684700             0              0             0               1   \n",
       "9721  40.988188             0              0             0               1   \n",
       "\n",
       "      avg_glucose_level        bmi    gender  work_type  smoking_status  \n",
       "0            228.690000  36.600000  0.000000          0               0  \n",
       "1            202.210000  28.893237  1.000000          1               1  \n",
       "2            105.920000  32.500000  0.000000          0               1  \n",
       "3            171.230000  34.400000  1.000000          0               2  \n",
       "4            174.120000  24.000000  1.000000          1               1  \n",
       "...                 ...        ...       ...        ...             ...  \n",
       "9717         113.717984  25.961060  1.000000          0               2  \n",
       "9718          72.850317  32.063613  0.138839          0               1  \n",
       "9719         172.119096  30.487035  0.000000          0               1  \n",
       "9720          78.509290  23.785883  0.228233          0               0  \n",
       "9721          60.094756  35.952626  0.668635          0               1  \n",
       "\n",
       "[9722 rows x 10 columns]"
      ]
     },
     "execution_count": 50,
     "metadata": {},
     "output_type": "execute_result"
    }
   ],
   "source": [
    "X"
   ]
  },
  {
   "cell_type": "code",
   "execution_count": 40,
   "metadata": {
    "id": "UFOypjB4o3W6"
   },
   "outputs": [],
   "source": [
    "from sklearn.model_selection import train_test_split\n",
    "X_train, X_test, y_train, y_test = train_test_split(X,y, test_size=0.25, random_state=42)"
   ]
  },
  {
   "cell_type": "code",
   "execution_count": 41,
   "metadata": {
    "colab": {
     "base_uri": "https://localhost:8080/"
    },
    "id": "HDDrOxOjrxCF",
    "outputId": "0340dfcf-4008-4532-b102-0763d396b8ad"
   },
   "outputs": [
    {
     "data": {
      "text/plain": [
       "age                  0\n",
       "hypertension         0\n",
       "heart_disease        0\n",
       "ever_married         0\n",
       "Residence_type       0\n",
       "avg_glucose_level    0\n",
       "bmi                  0\n",
       "gender               0\n",
       "work_type            0\n",
       "smoking_status       0\n",
       "dtype: int64"
      ]
     },
     "execution_count": 41,
     "metadata": {},
     "output_type": "execute_result"
    }
   ],
   "source": [
    "\n",
    "X_train.isnull().sum()"
   ]
  },
  {
   "cell_type": "code",
   "execution_count": 42,
   "metadata": {
    "colab": {
     "base_uri": "https://localhost:8080/",
     "height": 351
    },
    "id": "07OPd6g3yd_t",
    "outputId": "fa4aee4a-5fba-4fe8-b2e5-f108d6653902"
   },
   "outputs": [
    {
     "name": "stderr",
     "output_type": "stream",
     "text": [
      "C:\\Users\\shubhendu\\.conda\\envs\\strokeprediction\\lib\\site-packages\\seaborn\\_decorators.py:43: FutureWarning: Pass the following variable as a keyword arg: x. From version 0.12, the only valid positional argument will be `data`, and passing other arguments without an explicit keyword will result in an error or misinterpretation.\n",
      "  FutureWarning\n"
     ]
    },
    {
     "data": {
      "text/plain": [
       "<AxesSubplot:xlabel='stroke', ylabel='count'>"
      ]
     },
     "execution_count": 42,
     "metadata": {},
     "output_type": "execute_result"
    },
    {
     "data": {
      "image/png": "[encoded data removed]",
      "text/plain": [
       "<Figure size 432x288 with 1 Axes>"
      ]
     },
     "metadata": {
      "needs_background": "light"
     },
     "output_type": "display_data"
    }
   ],
   "source": [
    "sns.countplot(data['stroke'])"
   ]
  },
  {
   "cell_type": "code",
   "execution_count": 54,
   "metadata": {
    "colab": {
     "base_uri": "https://localhost:8080/",
     "height": 423
    },
    "id": "AGF3W3ffrOnK",
    "outputId": "1cd98623-bb9e-48c8-e587-95d5d2f93594"
   },
   "outputs": [
    {
     "data": {
      "text/html": [
       "<div>\n",
       "<style scoped>\n",
       "    .dataframe tbody tr th:only-of-type {\n",
       "        vertical-align: middle;\n",
       "    }\n",
       "\n",
       "    .dataframe tbody tr th {\n",
       "        vertical-align: top;\n",
       "    }\n",
       "\n",
       "    .dataframe thead th {\n",
       "        text-align: right;\n",
       "    }\n",
       "</style>\n",
       "<table border=\"1\" class=\"dataframe\">\n",
       "  <thead>\n",
       "    <tr style=\"text-align: right;\">\n",
       "      <th></th>\n",
       "      <th>age</th>\n",
       "      <th>hypertension</th>\n",
       "      <th>heart_disease</th>\n",
       "      <th>ever_married</th>\n",
       "      <th>Residence_type</th>\n",
       "      <th>avg_glucose_level</th>\n",
       "      <th>bmi</th>\n",
       "      <th>gender</th>\n",
       "      <th>work_type</th>\n",
       "      <th>smoking_status</th>\n",
       "    </tr>\n",
       "  </thead>\n",
       "  <tbody>\n",
       "    <tr>\n",
       "      <th>5945</th>\n",
       "      <td>80.367541</td>\n",
       "      <td>1</td>\n",
       "      <td>0</td>\n",
       "      <td>0</td>\n",
       "      <td>0</td>\n",
       "      <td>244.059440</td>\n",
       "      <td>27.404295</td>\n",
       "      <td>0.000000</td>\n",
       "      <td>0</td>\n",
       "      <td>1</td>\n",
       "    </tr>\n",
       "    <tr>\n",
       "      <th>2268</th>\n",
       "      <td>6.000000</td>\n",
       "      <td>0</td>\n",
       "      <td>0</td>\n",
       "      <td>1</td>\n",
       "      <td>1</td>\n",
       "      <td>108.230000</td>\n",
       "      <td>18.600000</td>\n",
       "      <td>1.000000</td>\n",
       "      <td>3</td>\n",
       "      <td>3</td>\n",
       "    </tr>\n",
       "    <tr>\n",
       "      <th>445</th>\n",
       "      <td>13.000000</td>\n",
       "      <td>0</td>\n",
       "      <td>0</td>\n",
       "      <td>1</td>\n",
       "      <td>1</td>\n",
       "      <td>55.390000</td>\n",
       "      <td>23.200000</td>\n",
       "      <td>0.000000</td>\n",
       "      <td>3</td>\n",
       "      <td>3</td>\n",
       "    </tr>\n",
       "    <tr>\n",
       "      <th>5940</th>\n",
       "      <td>81.698886</td>\n",
       "      <td>0</td>\n",
       "      <td>0</td>\n",
       "      <td>0</td>\n",
       "      <td>1</td>\n",
       "      <td>82.855657</td>\n",
       "      <td>25.566548</td>\n",
       "      <td>1.000000</td>\n",
       "      <td>0</td>\n",
       "      <td>0</td>\n",
       "    </tr>\n",
       "    <tr>\n",
       "      <th>3118</th>\n",
       "      <td>31.000000</td>\n",
       "      <td>0</td>\n",
       "      <td>0</td>\n",
       "      <td>0</td>\n",
       "      <td>0</td>\n",
       "      <td>88.200000</td>\n",
       "      <td>22.700000</td>\n",
       "      <td>1.000000</td>\n",
       "      <td>2</td>\n",
       "      <td>1</td>\n",
       "    </tr>\n",
       "    <tr>\n",
       "      <th>...</th>\n",
       "      <td>...</td>\n",
       "      <td>...</td>\n",
       "      <td>...</td>\n",
       "      <td>...</td>\n",
       "      <td>...</td>\n",
       "      <td>...</td>\n",
       "      <td>...</td>\n",
       "      <td>...</td>\n",
       "      <td>...</td>\n",
       "      <td>...</td>\n",
       "    </tr>\n",
       "    <tr>\n",
       "      <th>5734</th>\n",
       "      <td>78.678542</td>\n",
       "      <td>0</td>\n",
       "      <td>0</td>\n",
       "      <td>1</td>\n",
       "      <td>0</td>\n",
       "      <td>89.328251</td>\n",
       "      <td>24.185831</td>\n",
       "      <td>0.678542</td>\n",
       "      <td>0</td>\n",
       "      <td>1</td>\n",
       "    </tr>\n",
       "    <tr>\n",
       "      <th>5191</th>\n",
       "      <td>79.938223</td>\n",
       "      <td>0</td>\n",
       "      <td>0</td>\n",
       "      <td>0</td>\n",
       "      <td>0</td>\n",
       "      <td>76.474245</td>\n",
       "      <td>33.778341</td>\n",
       "      <td>0.938223</td>\n",
       "      <td>0</td>\n",
       "      <td>1</td>\n",
       "    </tr>\n",
       "    <tr>\n",
       "      <th>5390</th>\n",
       "      <td>80.879891</td>\n",
       "      <td>0</td>\n",
       "      <td>0</td>\n",
       "      <td>0</td>\n",
       "      <td>0</td>\n",
       "      <td>79.966379</td>\n",
       "      <td>30.228480</td>\n",
       "      <td>1.000000</td>\n",
       "      <td>0</td>\n",
       "      <td>1</td>\n",
       "    </tr>\n",
       "    <tr>\n",
       "      <th>860</th>\n",
       "      <td>46.000000</td>\n",
       "      <td>0</td>\n",
       "      <td>0</td>\n",
       "      <td>0</td>\n",
       "      <td>1</td>\n",
       "      <td>100.150000</td>\n",
       "      <td>50.300000</td>\n",
       "      <td>1.000000</td>\n",
       "      <td>0</td>\n",
       "      <td>2</td>\n",
       "    </tr>\n",
       "    <tr>\n",
       "      <th>7270</th>\n",
       "      <td>71.957931</td>\n",
       "      <td>0</td>\n",
       "      <td>0</td>\n",
       "      <td>0</td>\n",
       "      <td>0</td>\n",
       "      <td>221.811455</td>\n",
       "      <td>30.019983</td>\n",
       "      <td>0.989483</td>\n",
       "      <td>0</td>\n",
       "      <td>0</td>\n",
       "    </tr>\n",
       "  </tbody>\n",
       "</table>\n",
       "<p>7291 rows × 10 columns</p>\n",
       "</div>"
      ],
      "text/plain": [
       "            age  hypertension  heart_disease  ever_married  Residence_type  \\\n",
       "5945  80.367541             1              0             0               0   \n",
       "2268   6.000000             0              0             1               1   \n",
       "445   13.000000             0              0             1               1   \n",
       "5940  81.698886             0              0             0               1   \n",
       "3118  31.000000             0              0             0               0   \n",
       "...         ...           ...            ...           ...             ...   \n",
       "5734  78.678542             0              0             1               0   \n",
       "5191  79.938223             0              0             0               0   \n",
       "5390  80.879891             0              0             0               0   \n",
       "860   46.000000             0              0             0               1   \n",
       "7270  71.957931             0              0             0               0   \n",
       "\n",
       "      avg_glucose_level        bmi    gender  work_type  smoking_status  \n",
       "5945         244.059440  27.404295  0.000000          0               1  \n",
       "2268         108.230000  18.600000  1.000000          3               3  \n",
       "445           55.390000  23.200000  0.000000          3               3  \n",
       "5940          82.855657  25.566548  1.000000          0               0  \n",
       "3118          88.200000  22.700000  1.000000          2               1  \n",
       "...                 ...        ...       ...        ...             ...  \n",
       "5734          89.328251  24.185831  0.678542          0               1  \n",
       "5191          76.474245  33.778341  0.938223          0               1  \n",
       "5390          79.966379  30.228480  1.000000          0               1  \n",
       "860          100.150000  50.300000  1.000000          0               2  \n",
       "7270         221.811455  30.019983  0.989483          0               0  \n",
       "\n",
       "[7291 rows x 10 columns]"
      ]
     },
     "execution_count": 54,
     "metadata": {},
     "output_type": "execute_result"
    }
   ],
   "source": [
    "X_train"
   ]
  },
  {
   "cell_type": "code",
   "execution_count": 89,
   "metadata": {},
   "outputs": [
    {
     "data": {
      "text/html": [
       "<div>\n",
       "<style scoped>\n",
       "    .dataframe tbody tr th:only-of-type {\n",
       "        vertical-align: middle;\n",
       "    }\n",
       "\n",
       "    .dataframe tbody tr th {\n",
       "        vertical-align: top;\n",
       "    }\n",
       "\n",
       "    .dataframe thead th {\n",
       "        text-align: right;\n",
       "    }\n",
       "</style>\n",
       "<table border=\"1\" class=\"dataframe\">\n",
       "  <thead>\n",
       "    <tr style=\"text-align: right;\">\n",
       "      <th></th>\n",
       "      <th>stroke</th>\n",
       "    </tr>\n",
       "  </thead>\n",
       "  <tbody>\n",
       "    <tr>\n",
       "      <th>5945</th>\n",
       "      <td>1</td>\n",
       "    </tr>\n",
       "    <tr>\n",
       "      <th>2268</th>\n",
       "      <td>0</td>\n",
       "    </tr>\n",
       "    <tr>\n",
       "      <th>445</th>\n",
       "      <td>0</td>\n",
       "    </tr>\n",
       "    <tr>\n",
       "      <th>5940</th>\n",
       "      <td>1</td>\n",
       "    </tr>\n",
       "    <tr>\n",
       "      <th>3118</th>\n",
       "      <td>0</td>\n",
       "    </tr>\n",
       "    <tr>\n",
       "      <th>...</th>\n",
       "      <td>...</td>\n",
       "    </tr>\n",
       "    <tr>\n",
       "      <th>5734</th>\n",
       "      <td>1</td>\n",
       "    </tr>\n",
       "    <tr>\n",
       "      <th>5191</th>\n",
       "      <td>1</td>\n",
       "    </tr>\n",
       "    <tr>\n",
       "      <th>5390</th>\n",
       "      <td>1</td>\n",
       "    </tr>\n",
       "    <tr>\n",
       "      <th>860</th>\n",
       "      <td>0</td>\n",
       "    </tr>\n",
       "    <tr>\n",
       "      <th>7270</th>\n",
       "      <td>1</td>\n",
       "    </tr>\n",
       "  </tbody>\n",
       "</table>\n",
       "<p>7291 rows × 1 columns</p>\n",
       "</div>"
      ],
      "text/plain": [
       "      stroke\n",
       "5945       1\n",
       "2268       0\n",
       "445        0\n",
       "5940       1\n",
       "3118       0\n",
       "...      ...\n",
       "5734       1\n",
       "5191       1\n",
       "5390       1\n",
       "860        0\n",
       "7270       1\n",
       "\n",
       "[7291 rows x 1 columns]"
      ]
     },
     "execution_count": 89,
     "metadata": {},
     "output_type": "execute_result"
    }
   ],
   "source": [
    "y_train"
   ]
  },
  {
   "cell_type": "code",
   "execution_count": 55,
   "metadata": {},
   "outputs": [
    {
     "data": {
      "text/plain": [
       "4"
      ]
     },
     "execution_count": 55,
     "metadata": {},
     "output_type": "execute_result"
    }
   ],
   "source": [
    "X_train['smoking_status'].nunique()"
   ]
  },
  {
   "cell_type": "code",
   "execution_count": 56,
   "metadata": {
    "colab": {
     "base_uri": "https://localhost:8080/"
    },
    "id": "L8CER0g30P7-",
    "outputId": "b53b00c8-8506-4451-b548-bfa6b5366372"
   },
   "outputs": [
    {
     "data": {
      "text/plain": [
       "(7291, 10)"
      ]
     },
     "execution_count": 56,
     "metadata": {},
     "output_type": "execute_result"
    }
   ],
   "source": [
    "X_train.shape"
   ]
  },
  {
   "cell_type": "code",
   "execution_count": 57,
   "metadata": {
    "colab": {
     "base_uri": "https://localhost:8080/"
    },
    "id": "smxi7iqH0UkR",
    "outputId": "4dc9b0a7-90b4-43a5-f04c-2b4d5d39957c"
   },
   "outputs": [
    {
     "data": {
      "text/plain": [
       "(2431, 10)"
      ]
     },
     "execution_count": 57,
     "metadata": {},
     "output_type": "execute_result"
    }
   ],
   "source": [
    "X_test.shape"
   ]
  },
  {
   "cell_type": "code",
   "execution_count": 58,
   "metadata": {
    "colab": {
     "base_uri": "https://localhost:8080/"
    },
    "id": "CvginYaP0aUC",
    "outputId": "d0e32143-9450-4b7f-e8ec-c9c06690a6fe"
   },
   "outputs": [
    {
     "data": {
      "text/plain": [
       "(7291, 1)"
      ]
     },
     "execution_count": 58,
     "metadata": {},
     "output_type": "execute_result"
    }
   ],
   "source": [
    "y_train.shape"
   ]
  },
  {
   "cell_type": "code",
   "execution_count": 59,
   "metadata": {
    "colab": {
     "base_uri": "https://localhost:8080/",
     "height": 298
    },
    "id": "XTKO1DGN0xap",
    "outputId": "86c4769d-33b2-4232-b8c9-a13e6e9ceb81"
   },
   "outputs": [
    {
     "data": {
      "image/png": "[encoded data removed]",
      "text/plain": [
       "<Figure size 432x288 with 1 Axes>"
      ]
     },
     "metadata": {},
     "output_type": "display_data"
    },
    {
     "name": "stdout",
     "output_type": "stream",
     "text": [
      "# samples associated with no stroke: 3641\n",
      "# samples associated with stroke: 3650\n"
     ]
    }
   ],
   "source": [
    "_, class_counts = np.unique(y_train, return_counts=True)\n",
    "class_names = ['No stroke', 'Stroke']\n",
    "fig, ax = plt.subplots()\n",
    "ax.pie(class_counts, labels=class_names, autopct='%1.2f%%',\n",
    "        shadow=True, startangle=90, counterclock=False)\n",
    "ax.axis('equal')  # Equal aspect ratio ensures that pie is drawn as a circle.\n",
    "ax.set_title('Class distribution')\n",
    "plt.show()\n",
    "print(\"# samples associated with no stroke: {}\".format(class_counts[0]))\n",
    "print(\"# samples associated with stroke: {}\".format(class_counts[1]))"
   ]
  },
  {
   "cell_type": "code",
   "execution_count": 60,
   "metadata": {
    "colab": {
     "base_uri": "https://localhost:8080/"
    },
    "id": "Q1YJb0yqr-q9",
    "outputId": "7d5a2be4-9f24-44e8-a8b9-82f2486f9e50"
   },
   "outputs": [
    {
     "data": {
      "text/plain": [
       "age                  0\n",
       "hypertension         0\n",
       "heart_disease        0\n",
       "ever_married         0\n",
       "Residence_type       0\n",
       "avg_glucose_level    0\n",
       "bmi                  0\n",
       "gender               0\n",
       "work_type            0\n",
       "smoking_status       0\n",
       "dtype: int64"
      ]
     },
     "execution_count": 60,
     "metadata": {},
     "output_type": "execute_result"
    }
   ],
   "source": [
    "X_test.isnull().sum()"
   ]
  },
  {
   "cell_type": "code",
   "execution_count": 62,
   "metadata": {
    "id": "QCVxBAeppKO6"
   },
   "outputs": [],
   "source": [
    "from sklearn.preprocessing import StandardScaler\n",
    "sc=StandardScaler()\n",
    "X_train = sc.fit_transform(X_train)"
   ]
  },
  {
   "cell_type": "code",
   "execution_count": 64,
   "metadata": {
    "colab": {
     "base_uri": "https://localhost:8080/"
    },
    "id": "ytKfSSYHrY_W",
    "outputId": "5e4a9613-ae7c-4e5f-c69e-ac2c13e11659"
   },
   "outputs": [
    {
     "data": {
      "text/plain": [
       "array([[ 1.14158802,  3.30944996, -0.22522826, ..., -1.23064232,\n",
       "        -0.62110101, -0.24565125],\n",
       "       [-2.22420552, -0.30216502, -0.22522826, ...,  0.95212662,\n",
       "         2.6477494 ,  1.65971395],\n",
       "       [-1.90739318, -0.30216502, -0.22522826, ..., -1.23064232,\n",
       "         2.6477494 ,  1.65971395],\n",
       "       ...,\n",
       "       [ 1.16477643, -0.30216502, -0.22522826, ...,  0.95212662,\n",
       "        -0.62110101, -0.24565125],\n",
       "       [-0.41384928, -0.30216502, -0.22522826, ...,  0.95212662,\n",
       "        -0.62110101,  0.70703135],\n",
       "       [ 0.76097831, -0.30216502, -0.22522826, ...,  0.92917015,\n",
       "        -0.62110101, -1.19833385]])"
      ]
     },
     "execution_count": 64,
     "metadata": {},
     "output_type": "execute_result"
    }
   ],
   "source": [
    "X_train"
   ]
  },
  {
   "cell_type": "code",
   "execution_count": 65,
   "metadata": {
    "id": "MkY9ALIbpN2D"
   },
   "outputs": [],
   "source": [
    "X_test = sc.transform(X_test)"
   ]
  },
  {
   "cell_type": "code",
   "execution_count": 66,
   "metadata": {
    "id": "sPEuil3r1taj"
   },
   "outputs": [],
   "source": [
    "def calc_sens_spec(y_true,y_pred):\n",
    "    conf_matrix = confusion_matrix(y_true,y_pred)\n",
    "    TP = conf_matrix[1][1]\n",
    "    TN = conf_matrix[0][0]\n",
    "    FP = conf_matrix[0][1]\n",
    "    FN = conf_matrix[1][0]\n",
    "    # calculate the sensitivity\n",
    "    sensitivity = TP / (TP + FN)    \n",
    "    # calculate the specificity\n",
    "    specificity = TN / (TN + FP)\n",
    "    return sensitivity,specificity"
   ]
  },
  {
   "cell_type": "code",
   "execution_count": 67,
   "metadata": {
    "colab": {
     "base_uri": "https://localhost:8080/"
    },
    "id": "i_3ocN6n17ar",
    "outputId": "f2013522-6e7d-4931-d06d-3e49fa66b27b"
   },
   "outputs": [
    {
     "name": "stderr",
     "output_type": "stream",
     "text": [
      "C:\\Users\\shubhendu\\.conda\\envs\\strokeprediction\\lib\\site-packages\\sklearn\\utils\\validation.py:985: DataConversionWarning: A column-vector y was passed when a 1d array was expected. Please change the shape of y to (n_samples, ), for example using ravel().\n",
      "  y = column_or_1d(y, warn=True)\n"
     ]
    }
   ],
   "source": [
    "svm_model = SVC(kernel='rbf',probability=True)\n",
    "svm_model.fit(X_train, y_train)\n",
    "#end = timer.time()\n",
    "#print(\"Finished training within {:.2f} seconds\".format(end-start))\n",
    "# Predicting the test set results\n",
    "y_svm = svm_model.predict(X_test)\n",
    "y_svm_prob = svm_model.predict_proba(X_test)"
   ]
  },
  {
   "cell_type": "code",
   "execution_count": 68,
   "metadata": {
    "colab": {
     "base_uri": "https://localhost:8080/",
     "height": 642
    },
    "id": "KQGeJClD2JF_",
    "outputId": "5e2f34a4-102d-4962-829f-84ebabd9d16d"
   },
   "outputs": [
    {
     "name": "stdout",
     "output_type": "stream",
     "text": [
      "Classification report for SVM: \n",
      "              precision    recall  f1-score   support\n",
      "\n",
      "           0       0.90      0.84      0.87      1220\n",
      "           1       0.85      0.91      0.88      1211\n",
      "\n",
      "    accuracy                           0.87      2431\n",
      "   macro avg       0.88      0.87      0.87      2431\n",
      "weighted avg       0.88      0.87      0.87      2431\n",
      "\n",
      "Confusion matrix for SVM: \n",
      "[[1027  193]\n",
      " [ 114 1097]]\n",
      "Accuracy score for SVM: 0.87\n",
      "Precision score for SVM: 0.85\n",
      "Recall score for SVM: 0.91\n",
      "F1 score for SVM: 0.88\n",
      "Sensitivity score for SVM: 0.91\n",
      "Specitivity score for SVM: 0.84\n",
      "AUC score for SVM: 0.95\n"
     ]
    },
    {
     "data": {
      "image/png": "[encoded data removed]",
      "text/plain": [
       "<Figure size 432x288 with 1 Axes>"
      ]
     },
     "metadata": {
      "needs_background": "light"
     },
     "output_type": "display_data"
    }
   ],
   "source": [
    "print(\"Classification report for SVM: \\n{}\".format(classification_report(y_test,y_svm)))\n",
    "print(\"Confusion matrix for SVM: \\n{}\".format(confusion_matrix(y_test,y_svm)))\n",
    "print(\"Accuracy score for SVM: {:.2f}\".format(accuracy_score(y_test,y_svm)))\n",
    "# calculate precision, recall, and f1 scores\n",
    "prec_svm = precision_score(y_test,y_svm)\n",
    "rec_svm = recall_score(y_test,y_svm)\n",
    "f1_svm = f1_score(y_test,y_svm)\n",
    "print(\"Precision score for SVM: {:.2f}\".format(prec_svm))\n",
    "print(\"Recall score for SVM: {:.2f}\".format(rec_svm))\n",
    "print(\"F1 score for SVM: {:.2f}\".format(f1_svm))\n",
    "# calculate sensitivity, specificity, and auc\n",
    "sens_svm,spec_svm = calc_sens_spec(y_test,y_svm)\n",
    "fpr, tpr, _ = roc_curve(y_test,  y_svm_prob[:,1])\n",
    "auc_svm = roc_auc_score(y_test, y_svm_prob[:,1])\n",
    "print(\"Sensitivity score for SVM: {:.2f}\".format(sens_svm))\n",
    "print(\"Specitivity score for SVM: {:.2f}\".format(spec_svm))\n",
    "print(\"AUC score for SVM: {:.2f}\".format(auc_svm))\n",
    "fig, ax = plt.subplots()\n",
    "ax.plot(fpr, tpr, color='blue', label='ROC curve (area = %0.2f)' % auc_svm)\n",
    "ax.plot([0, 1], [0, 1], color='green', linestyle='--')\n",
    "ax.set_xlim([-0.05, 1.0])\n",
    "ax.set_ylim([0.0, 1.05])\n",
    "ax.set_xlabel('False Positive Rate')\n",
    "ax.set_ylabel('True Positive Rate')\n",
    "ax.set_title('Receiver Operating Characteristic (SVM)')\n",
    "ax.legend(loc=\"lower right\")\n",
    "plt.show()"
   ]
  },
  {
   "cell_type": "code",
   "execution_count": null,
   "metadata": {
    "id": "abf6Tucq2Va2"
   },
   "outputs": [],
   "source": []
  },
  {
   "cell_type": "code",
   "execution_count": 69,
   "metadata": {
    "colab": {
     "base_uri": "https://localhost:8080/"
    },
    "id": "PdcPgJeE2VFC",
    "outputId": "7b490bfb-c40c-4d6b-d745-fb0c3048e4db"
   },
   "outputs": [
    {
     "name": "stderr",
     "output_type": "stream",
     "text": [
      "C:\\Users\\shubhendu\\.conda\\envs\\strokeprediction\\lib\\site-packages\\sklearn\\utils\\validation.py:985: DataConversionWarning: A column-vector y was passed when a 1d array was expected. Please change the shape of y to (n_samples, ), for example using ravel().\n",
      "  y = column_or_1d(y, warn=True)\n"
     ]
    }
   ],
   "source": [
    "gnb_model = GaussianNB()\n",
    "gnb_model.fit(X_train, y_train)\n",
    "end = timer.time()\n",
    "#print(\"Finished training within {:.2f} seconds\".format(end-start))\n",
    "# Predicting the test set results\n",
    "y_gnb = gnb_model.predict(X_test)\n",
    "y_gnb_prob = gnb_model.predict_proba(X_test)"
   ]
  },
  {
   "cell_type": "code",
   "execution_count": 70,
   "metadata": {
    "colab": {
     "base_uri": "https://localhost:8080/",
     "height": 642
    },
    "id": "rsK1YNI62b_b",
    "outputId": "3ef4d26d-bc63-408c-adf7-9359e49dc975"
   },
   "outputs": [
    {
     "name": "stdout",
     "output_type": "stream",
     "text": [
      "Classification report for GNB: \n",
      "              precision    recall  f1-score   support\n",
      "\n",
      "           0       0.93      0.66      0.77      1220\n",
      "           1       0.73      0.95      0.83      1211\n",
      "\n",
      "    accuracy                           0.80      2431\n",
      "   macro avg       0.83      0.80      0.80      2431\n",
      "weighted avg       0.83      0.80      0.80      2431\n",
      "\n",
      "Confusion matrix for GNB: \n",
      "[[ 802  418]\n",
      " [  59 1152]]\n",
      "Accuracy score for GNB: 0.80\n",
      "Precision score for GNB: 0.73\n",
      "Recall score for GNB: 0.95\n",
      "F1 score for GNB: 0.83\n",
      "Sensitivity score for GNB: 0.95\n",
      "Specitivity score for GNB: 0.66\n",
      "AUC score for GNB: 0.89\n"
     ]
    },
    {
     "data": {
      "image/png": "[encoded data removed]",
      "text/plain": [
       "<Figure size 432x288 with 1 Axes>"
      ]
     },
     "metadata": {
      "needs_background": "light"
     },
     "output_type": "display_data"
    }
   ],
   "source": [
    "print(\"Classification report for GNB: \\n{}\".format(classification_report(y_test,y_gnb)))\n",
    "print(\"Confusion matrix for GNB: \\n{}\".format(confusion_matrix(y_test,y_gnb)))\n",
    "print(\"Accuracy score for GNB: {:.2f}\".format(accuracy_score(y_test,y_gnb)))\n",
    "# calculate precision, recall, and f1 scores\n",
    "prec_gnb = precision_score(y_test,y_gnb)\n",
    "rec_gnb = recall_score(y_test,y_gnb)\n",
    "f1_gnb = f1_score(y_test,y_gnb)\n",
    "print(\"Precision score for GNB: {:.2f}\".format(prec_gnb))\n",
    "print(\"Recall score for GNB: {:.2f}\".format(rec_gnb))\n",
    "print(\"F1 score for GNB: {:.2f}\".format(f1_gnb))\n",
    "# calculate sensitivity, specificity, and auc\n",
    "sens_gnb,spec_gnb = calc_sens_spec(y_test,y_gnb)\n",
    "fpr, tpr, _ = roc_curve(y_test,  y_gnb_prob[:,1])\n",
    "auc_gnb = roc_auc_score(y_test, y_gnb_prob[:,1])\n",
    "print(\"Sensitivity score for GNB: {:.2f}\".format(sens_gnb))\n",
    "print(\"Specitivity score for GNB: {:.2f}\".format(spec_gnb))\n",
    "print(\"AUC score for GNB: {:.2f}\".format(auc_gnb))\n",
    "fig, ax = plt.subplots()\n",
    "ax.plot(fpr, tpr, color='blue', label='ROC curve (area = %0.2f)' % auc_gnb)\n",
    "ax.plot([0, 1], [0, 1], color='green', linestyle='--')\n",
    "ax.set_xlim([-0.05, 1.0])\n",
    "ax.set_ylim([0.0, 1.05])\n",
    "ax.set_xlabel('False Positive Rate')\n",
    "ax.set_ylabel('True Positive Rate')\n",
    "ax.set_title('Receiver Operating Characteristic (GNB)')\n",
    "ax.legend(loc=\"lower right\")\n",
    "plt.show()"
   ]
  },
  {
   "cell_type": "code",
   "execution_count": 71,
   "metadata": {
    "colab": {
     "base_uri": "https://localhost:8080/"
    },
    "id": "A-v7-FwB2i5P",
    "outputId": "ba722276-7015-4559-d17f-3e25384eacf2"
   },
   "outputs": [
    {
     "name": "stderr",
     "output_type": "stream",
     "text": [
      "C:\\Users\\shubhendu\\.conda\\envs\\strokeprediction\\lib\\site-packages\\sklearn\\utils\\validation.py:985: DataConversionWarning: A column-vector y was passed when a 1d array was expected. Please change the shape of y to (n_samples, ), for example using ravel().\n",
      "  y = column_or_1d(y, warn=True)\n"
     ]
    }
   ],
   "source": [
    "logit_model = LogisticRegression(solver='lbfgs', random_state=42)\n",
    "logit_model.fit(X_train, y_train)\n",
    "#print(\"Finished training within {:.2f} seconds\".format(end-start))\n",
    "# Predicting the test set results\n",
    "y_logit = logit_model.predict(X_test)\n",
    "y_logit_prob = logit_model.predict_proba(X_test)"
   ]
  },
  {
   "cell_type": "code",
   "execution_count": 72,
   "metadata": {
    "colab": {
     "base_uri": "https://localhost:8080/",
     "height": 642
    },
    "id": "QC0yLoMH2peI",
    "outputId": "37d9e356-f3fb-4cfd-c982-75649114d20c"
   },
   "outputs": [
    {
     "name": "stdout",
     "output_type": "stream",
     "text": [
      "Classification report for LR: \n",
      "              precision    recall  f1-score   support\n",
      "\n",
      "           0       0.87      0.79      0.83      1220\n",
      "           1       0.81      0.89      0.84      1211\n",
      "\n",
      "    accuracy                           0.84      2431\n",
      "   macro avg       0.84      0.84      0.84      2431\n",
      "weighted avg       0.84      0.84      0.84      2431\n",
      "\n",
      "Confusion matrix for LR: \n",
      "[[ 963  257]\n",
      " [ 139 1072]]\n",
      "Accuracy score for LR: 0.84\n",
      "Precision score for LR: 0.81\n",
      "Recall score for LR: 0.89\n",
      "F1 score for LR: 0.84\n",
      "Sensitivity score for LR: 0.89\n",
      "Specitivity score for LR: 0.79\n",
      "AUC score for LR: 0.91\n"
     ]
    },
    {
     "data": {
      "image/png": "[encoded data removed]",
      "text/plain": [
       "<Figure size 432x288 with 1 Axes>"
      ]
     },
     "metadata": {
      "needs_background": "light"
     },
     "output_type": "display_data"
    }
   ],
   "source": [
    "print(\"Classification report for LR: \\n{}\".format(classification_report(y_test,y_logit)))\n",
    "print(\"Confusion matrix for LR: \\n{}\".format(confusion_matrix(y_test,y_logit)))\n",
    "print(\"Accuracy score for LR: {:.2f}\".format(accuracy_score(y_test,y_logit)))\n",
    "# calculate precision, recall, and f1 scores\n",
    "prec_logit = precision_score(y_test,y_logit)\n",
    "rec_logit = recall_score(y_test,y_logit)\n",
    "f1_logit = f1_score(y_test,y_logit)\n",
    "print(\"Precision score for LR: {:.2f}\".format(prec_logit))\n",
    "print(\"Recall score for LR: {:.2f}\".format(rec_logit))\n",
    "print(\"F1 score for LR: {:.2f}\".format(f1_logit))\n",
    "# calculate sensitivity, specificity, and auc\n",
    "sens_logit,spec_logit = calc_sens_spec(y_test,y_logit)\n",
    "fpr, tpr, _ = roc_curve(y_test,  y_logit_prob[:,1])\n",
    "auc_logit = roc_auc_score(y_test, y_logit_prob[:,1])\n",
    "print(\"Sensitivity score for LR: {:.2f}\".format(sens_logit))\n",
    "print(\"Specitivity score for LR: {:.2f}\".format(spec_logit))\n",
    "print(\"AUC score for LR: {:.2f}\".format(auc_logit))\n",
    "fig, ax = plt.subplots()\n",
    "ax.plot(fpr, tpr, color='blue', label='ROC curve (area = %0.2f)' % auc_logit)\n",
    "ax.plot([0, 1], [0, 1], color='green', linestyle='--')\n",
    "ax.set_xlim([-0.05, 1.0])\n",
    "ax.set_ylim([0.0, 1.05])\n",
    "ax.set_xlabel('False Positive Rate')\n",
    "ax.set_ylabel('True Positive Rate')\n",
    "ax.set_title('Receiver Operating Characteristic (LR)')\n",
    "ax.legend(loc=\"lower right\")\n",
    "plt.show()"
   ]
  },
  {
   "cell_type": "code",
   "execution_count": 73,
   "metadata": {
    "id": "uIhM3bmLqDph"
   },
   "outputs": [],
   "source": [
    "dtree_model = DecisionTreeClassifier(random_state=42)\n",
    "dtree_model.fit(X_train, y_train)\n",
    "\n",
    "#print(\"Finished training within {:.2f} seconds\".format(end-start))\n",
    "# Predicting the test set results\n",
    "y_dtree = dtree_model.predict(X_test)\n",
    "y_dtree_prob = dtree_model.predict_proba(X_test)"
   ]
  },
  {
   "cell_type": "code",
   "execution_count": 74,
   "metadata": {
    "colab": {
     "base_uri": "https://localhost:8080/",
     "height": 642
    },
    "id": "KdQdx8aX22LC",
    "outputId": "47b5d088-7d5e-4e1b-f1de-1ad4972b84e6"
   },
   "outputs": [
    {
     "name": "stdout",
     "output_type": "stream",
     "text": [
      "Classification report for DT: \n",
      "              precision    recall  f1-score   support\n",
      "\n",
      "           0       0.93      0.90      0.91      1220\n",
      "           1       0.90      0.93      0.92      1211\n",
      "\n",
      "    accuracy                           0.92      2431\n",
      "   macro avg       0.92      0.92      0.92      2431\n",
      "weighted avg       0.92      0.92      0.92      2431\n",
      "\n",
      "Confusion matrix for DT: \n",
      "[[1096  124]\n",
      " [  80 1131]]\n",
      "Accuracy score for DT: 0.92\n",
      "Precision score for DT: 0.90\n",
      "Recall score for DT: 0.93\n",
      "F1 score for DT: 0.92\n",
      "Sensitivity score for DT: 0.93\n",
      "Specitivity score for DT: 0.90\n",
      "AUC score for DT: 0.92\n"
     ]
    },
    {
     "data": {
      "image/png": "[encoded data removed]",
      "text/plain": [
       "<Figure size 432x288 with 1 Axes>"
      ]
     },
     "metadata": {
      "needs_background": "light"
     },
     "output_type": "display_data"
    }
   ],
   "source": [
    "print(\"Classification report for DT: \\n{}\".format(classification_report(y_test,y_dtree)))\n",
    "print(\"Confusion matrix for DT: \\n{}\".format(confusion_matrix(y_test,y_dtree)))\n",
    "print(\"Accuracy score for DT: {:.2f}\".format(accuracy_score(y_test,y_dtree)))\n",
    "# calculate precision, recall, and f1 scores\n",
    "prec_dtree = precision_score(y_test,y_dtree)\n",
    "rec_dtree = recall_score(y_test,y_dtree)\n",
    "f1_dtree = f1_score(y_test,y_dtree)\n",
    "print(\"Precision score for DT: {:.2f}\".format(prec_dtree))\n",
    "print(\"Recall score for DT: {:.2f}\".format(rec_dtree))\n",
    "print(\"F1 score for DT: {:.2f}\".format(f1_dtree))\n",
    "# calculate sensitivity, specificity, and auc\n",
    "sens_dtree,spec_dtree = calc_sens_spec(y_test,y_dtree)\n",
    "fpr, tpr, _ = roc_curve(y_test,  y_dtree_prob[:,1])\n",
    "auc_dtree = roc_auc_score(y_test, y_dtree_prob[:,1])\n",
    "print(\"Sensitivity score for DT: {:.2f}\".format(sens_dtree))\n",
    "print(\"Specitivity score for DT: {:.2f}\".format(spec_dtree))\n",
    "print(\"AUC score for DT: {:.2f}\".format(auc_dtree))\n",
    "fig, ax = plt.subplots()\n",
    "ax.plot(fpr, tpr, color='blue', label='ROC curve (area = %0.2f)' % auc_dtree)\n",
    "ax.plot([0, 1], [0, 1], color='green', linestyle='--')\n",
    "ax.set_xlim([-0.05, 1.0])\n",
    "ax.set_ylim([0.0, 1.05])\n",
    "ax.set_xlabel('False Positive Rate')\n",
    "ax.set_ylabel('True Positive Rate')\n",
    "ax.set_title('Receiver Operating Characteristic (DT)')\n",
    "ax.legend(loc=\"lower right\")\n",
    "plt.show()"
   ]
  },
  {
   "cell_type": "code",
   "execution_count": 75,
   "metadata": {
    "colab": {
     "base_uri": "https://localhost:8080/"
    },
    "id": "w3dxdT0x27oh",
    "outputId": "ae5c211b-5dfc-4a9a-83b3-b6ea7883764a"
   },
   "outputs": [
    {
     "name": "stderr",
     "output_type": "stream",
     "text": [
      "C:\\Users\\shubhendu\\.conda\\envs\\strokeprediction\\lib\\site-packages\\ipykernel_launcher.py:2: DataConversionWarning: A column-vector y was passed when a 1d array was expected. Please change the shape of y to (n_samples,), for example using ravel().\n",
      "  \n"
     ]
    }
   ],
   "source": [
    "ranfor_model = RandomForestClassifier(n_estimators=100, random_state=42)\n",
    "ranfor_model.fit(X_train, y_train)\n",
    "\n",
    "#print(\"Finished training within {:.2f} seconds\".format(end-start))\n",
    "# Predicting the test set results\n",
    "y_ranfor = ranfor_model.predict(X_test)\n",
    "y_ranfor_prob = ranfor_model.predict_proba(X_test)"
   ]
  },
  {
   "cell_type": "code",
   "execution_count": 76,
   "metadata": {
    "colab": {
     "base_uri": "https://localhost:8080/",
     "height": 642
    },
    "id": "qwAiHR7g3BLG",
    "outputId": "f98f4138-e919-4dbb-f03d-7052f479c50a"
   },
   "outputs": [
    {
     "name": "stdout",
     "output_type": "stream",
     "text": [
      "Classification report for RF: \n",
      "              precision    recall  f1-score   support\n",
      "\n",
      "           0       0.96      0.95      0.96      1220\n",
      "           1       0.95      0.96      0.96      1211\n",
      "\n",
      "    accuracy                           0.96      2431\n",
      "   macro avg       0.96      0.96      0.96      2431\n",
      "weighted avg       0.96      0.96      0.96      2431\n",
      "\n",
      "Confusion matrix for RF: \n",
      "[[1164   56]\n",
      " [  51 1160]]\n",
      "Accuracy score for RF: 0.96\n",
      "Precision score for RF: 0.95\n",
      "Recall score for RF: 0.96\n",
      "F1 score for RF: 0.96\n",
      "Sensitivity score for RF: 0.96\n",
      "Specitivity score for RF: 0.95\n",
      "AUC score for RF: 0.99\n"
     ]
    },
    {
     "data": {
      "image/png": "[encoded data removed]",
      "text/plain": [
       "<Figure size 432x288 with 1 Axes>"
      ]
     },
     "metadata": {
      "needs_background": "light"
     },
     "output_type": "display_data"
    }
   ],
   "source": [
    "print(\"Classification report for RF: \\n{}\".format(classification_report(y_test,y_ranfor)))\n",
    "print(\"Confusion matrix for RF: \\n{}\".format(confusion_matrix(y_test,y_ranfor)))\n",
    "print(\"Accuracy score for RF: {:.2f}\".format(accuracy_score(y_test,y_ranfor)))\n",
    "# calculate precision, recall, and f1 scores\n",
    "prec_ranfor = precision_score(y_test,y_ranfor)\n",
    "rec_ranfor = recall_score(y_test,y_ranfor)\n",
    "f1_ranfor = f1_score(y_test,y_ranfor)\n",
    "print(\"Precision score for RF: {:.2f}\".format(prec_ranfor))\n",
    "print(\"Recall score for RF: {:.2f}\".format(rec_ranfor))\n",
    "print(\"F1 score for RF: {:.2f}\".format(f1_ranfor))\n",
    "# calculate sensitivity, specificity, and auc\n",
    "sens_ranfor,spec_ranfor = calc_sens_spec(y_test,y_ranfor)\n",
    "fpr, tpr, _ = roc_curve(y_test,  y_ranfor_prob[:,1])\n",
    "auc_ranfor = roc_auc_score(y_test, y_ranfor_prob[:,1])\n",
    "print(\"Sensitivity score for RF: {:.2f}\".format(sens_ranfor))\n",
    "print(\"Specitivity score for RF: {:.2f}\".format(spec_ranfor))\n",
    "print(\"AUC score for RF: {:.2f}\".format(auc_ranfor))\n",
    "fig, ax = plt.subplots()\n",
    "ax.plot(fpr, tpr, color='blue', label='ROC curve (area = %0.2f)' % auc_ranfor)\n",
    "ax.plot([0, 1], [0, 1], color='green', linestyle='--')\n",
    "ax.set_xlim([-0.05, 1.0])\n",
    "ax.set_ylim([0.0, 1.05])\n",
    "ax.set_xlabel('False Positive Rate')\n",
    "ax.set_ylabel('True Positive Rate')\n",
    "ax.set_title('Receiver Operating Characteristic (RF)')\n",
    "ax.legend(loc=\"lower right\")\n",
    "plt.show()"
   ]
  },
  {
   "cell_type": "code",
   "execution_count": 77,
   "metadata": {
    "colab": {
     "base_uri": "https://localhost:8080/"
    },
    "id": "gM-8C5xs3Isz",
    "outputId": "050e9721-441b-41b3-bfb0-70d10d04d1c0"
   },
   "outputs": [
    {
     "name": "stdout",
     "output_type": "stream",
     "text": [
      "[12:27:30] WARNING: C:/Users/Administrator/workspace/xgboost-win64_release_1.5.1/src/learner.cc:1115: Starting in XGBoost 1.3.0, the default evaluation metric used with the objective 'binary:logistic' was changed from 'error' to 'logloss'. Explicitly set eval_metric if you'd like to restore the old behavior.\n"
     ]
    },
    {
     "name": "stderr",
     "output_type": "stream",
     "text": [
      "C:\\Users\\shubhendu\\.conda\\envs\\strokeprediction\\lib\\site-packages\\xgboost\\sklearn.py:1224: UserWarning: The use of label encoder in XGBClassifier is deprecated and will be removed in a future release. To remove this warning, do the following: 1) Pass option use_label_encoder=False when constructing XGBClassifier object; and 2) Encode your labels (y) as integers starting with 0, i.e. 0, 1, 2, ..., [num_class - 1].\n",
      "  warnings.warn(label_encoder_deprecation_msg, UserWarning)\n",
      "C:\\Users\\shubhendu\\.conda\\envs\\strokeprediction\\lib\\site-packages\\sklearn\\preprocessing\\_label.py:98: DataConversionWarning: A column-vector y was passed when a 1d array was expected. Please change the shape of y to (n_samples, ), for example using ravel().\n",
      "  y = column_or_1d(y, warn=True)\n",
      "C:\\Users\\shubhendu\\.conda\\envs\\strokeprediction\\lib\\site-packages\\sklearn\\preprocessing\\_label.py:133: DataConversionWarning: A column-vector y was passed when a 1d array was expected. Please change the shape of y to (n_samples, ), for example using ravel().\n",
      "  y = column_or_1d(y, warn=True)\n"
     ]
    }
   ],
   "source": [
    "xgb_model = XGBClassifier(objective=\"binary:logistic\", random_state=42)\n",
    "xgb_model.fit(X_train, y_train)\n",
    "\n",
    "#print(\"Finished training within {:.2f} seconds\".format(end-start))\n",
    "# Predicting the test set results\n",
    "y_xgb = xgb_model.predict(X_test)\n",
    "y_xgb_prob = xgb_model.predict_proba(X_test)"
   ]
  },
  {
   "cell_type": "code",
   "execution_count": 78,
   "metadata": {},
   "outputs": [
    {
     "data": {
      "text/plain": [
       "array([[-2.17894662, -0.30216502, -0.22522826,  2.08736446, -0.74403659,\n",
       "        -0.54650343, -1.83491014,  0.95212662,  2.6477494 ,  1.65971395],\n",
       "       [ 0.898659  , -0.30216502, -0.22522826, -0.47907302, -0.74403659,\n",
       "        -0.23824127, -0.07332036, -0.80392711, -0.62110101,  1.65971395],\n",
       "       [ 0.49132885, -0.30216502, -0.22522826, -0.47907302, -0.74403659,\n",
       "        -0.28687354,  0.57145803, -1.23064232, -0.62110101, -0.24565125],\n",
       "       [ 0.1745165 , -0.30216502, -0.22522826, -0.47907302, -0.74403659,\n",
       "        -0.45677707, -0.65471683, -1.23064232, -0.62110101,  0.70703135],\n",
       "       [ 0.68085947, -0.30216502, -0.22522826, -0.47907302, -0.74403659,\n",
       "        -0.67935271, -0.03983887, -0.63961965, -0.62110101, -0.24565125],\n",
       "       [ 0.98917681, -0.30216502, -0.22522826, -0.47907302, -0.74403659,\n",
       "        -0.24705522,  0.24958713,  0.95212662, -0.62110101, -0.24565125],\n",
       "       [-1.13799177, -0.30216502, -0.22522826,  2.08736446, -0.74403659,\n",
       "        -0.23246117, -0.40948186, -1.23064232, -0.62110101,  1.65971395],\n",
       "       [-0.23281365,  3.30944996, -0.22522826, -0.47907302,  1.34401991,\n",
       "        -0.90324679,  0.84734737,  0.95212662,  0.4685158 , -0.24565125],\n",
       "       [ 0.08048334, -0.30216502, -0.22522826, -0.47907302,  1.34401991,\n",
       "         2.27660946,  0.67428484, -1.23064232, -0.62110101, -0.24565125],\n",
       "       [ 0.31029322,  3.30944996, -0.22522826, -0.47907302,  1.34401991,\n",
       "        -0.80379106,  0.7094027 ,  0.95212662,  0.4685158 , -0.24565125],\n",
       "       [ 1.17021244, -0.30216502, -0.22522826,  2.08736446, -0.74403659,\n",
       "        -0.84721286, -1.55902079,  0.95212662,  0.4685158 ,  1.65971395],\n",
       "       [-0.00651912, -0.30216502, -0.22522826, -0.47907302,  1.34401991,\n",
       "        -1.03621477,  0.6021124 , -1.23064232, -0.62110101,  0.70703135],\n",
       "       [-1.63583974, -0.30216502, -0.22522826,  2.08736446,  1.34401991,\n",
       "        -0.22291198,  0.08098808,  0.95212662, -0.62110101, -0.24565125],\n",
       "       [ 1.18668071,  3.30944996, -0.22522826, -0.47907302,  1.34401991,\n",
       "        -0.67010374, -0.12813264,  0.95212662, -0.62110101, -1.19833385],\n",
       "       [ 1.17021244, -0.30216502, -0.22522826, -0.47907302, -0.74403659,\n",
       "         1.19814195, -0.15584799, -0.29175689, -0.62110101, -1.19833385],\n",
       "       [-0.09423245, -0.30216502, -0.22522826, -0.47907302, -0.74403659,\n",
       "        -0.09475523,  1.7356774 , -1.23064232, -0.62110101, -1.19833385],\n",
       "       [ 0.66412394, -0.30216502, -0.22522826, -0.47907302, -0.74403659,\n",
       "         1.36518042, -0.5340731 , -0.33797216,  0.4685158 ,  0.70703135],\n",
       "       [ 1.12495353,  3.30944996, -0.22522826, -0.47907302, -0.74403659,\n",
       "         1.08028232, -0.30219156, -1.23064232,  0.4685158 ,  1.65971395],\n",
       "       [-1.99791099, -0.30216502, -0.22522826,  2.08736446,  1.34401991,\n",
       "        -0.71892939, -1.97285481, -1.23064232,  2.6477494 ,  1.65971395],\n",
       "       [-0.64014381, -0.30216502, -0.22522826, -0.47907302,  1.34401991,\n",
       "         0.04518606, -1.37509456,  0.95212662, -0.62110101, -0.24565125]])"
      ]
     },
     "execution_count": 78,
     "metadata": {},
     "output_type": "execute_result"
    }
   ],
   "source": [
    "X_test[0:20]"
   ]
  },
  {
   "cell_type": "code",
   "execution_count": 100,
   "metadata": {},
   "outputs": [],
   "source": [
    "prediction = xgb_model.predict([[-2.22420552, -0.30216502, -0.22522826,  2.08736446,  1.34401991,\n",
    "        -0.19696701, -1.74294702,  0.95212662,  2.6477494 ,  1.65971395]])"
   ]
  },
  {
   "cell_type": "code",
   "execution_count": 101,
   "metadata": {},
   "outputs": [
    {
     "data": {
      "text/plain": [
       "0"
      ]
     },
     "execution_count": 101,
     "metadata": {},
     "output_type": "execute_result"
    }
   ],
   "source": [
    "round(prediction[0],2)"
   ]
  },
  {
   "cell_type": "code",
   "execution_count": 98,
   "metadata": {},
   "outputs": [
    {
     "name": "stderr",
     "output_type": "stream",
     "text": [
      "C:\\Users\\shubhendu\\.conda\\envs\\strokeprediction\\lib\\site-packages\\sklearn\\base.py:446: UserWarning: X does not have valid feature names, but StandardScaler was fitted with feature names\n",
      "  \"X does not have valid feature names, but\"\n"
     ]
    }
   ],
   "source": [
    "d = sc.transform([[6, 0, 0, 1, 1, 108, 18, 1, 3, 3]])"
   ]
  },
  {
   "cell_type": "code",
   "execution_count": 99,
   "metadata": {},
   "outputs": [
    {
     "data": {
      "text/plain": [
       "array([[-2.22420552, -0.30216502, -0.22522826,  2.08736446,  1.34401991,\n",
       "        -0.19696701, -1.74294702,  0.95212662,  2.6477494 ,  1.65971395]])"
      ]
     },
     "execution_count": 99,
     "metadata": {},
     "output_type": "execute_result"
    }
   ],
   "source": [
    "d"
   ]
  },
  {
   "cell_type": "code",
   "execution_count": 83,
   "metadata": {},
   "outputs": [
    {
     "data": {
      "text/plain": [
       "(1,)"
      ]
     },
     "execution_count": 83,
     "metadata": {},
     "output_type": "execute_result"
    }
   ],
   "source": [
    "prediction.shape"
   ]
  },
  {
   "cell_type": "code",
   "execution_count": 84,
   "metadata": {
    "colab": {
     "base_uri": "https://localhost:8080/",
     "height": 642
    },
    "id": "DuDRub6U3ORl",
    "outputId": "4af974e4-7b56-48b1-a195-39513ec47321"
   },
   "outputs": [
    {
     "name": "stdout",
     "output_type": "stream",
     "text": [
      "Classification report for XGB: \n",
      "              precision    recall  f1-score   support\n",
      "\n",
      "           0       0.96      0.97      0.96      1220\n",
      "           1       0.97      0.96      0.96      1211\n",
      "\n",
      "    accuracy                           0.96      2431\n",
      "   macro avg       0.96      0.96      0.96      2431\n",
      "weighted avg       0.96      0.96      0.96      2431\n",
      "\n",
      "Confusion matrix for XGB: \n",
      "[[1179   41]\n",
      " [  48 1163]]\n",
      "Accuracy score for XGB: 0.96\n",
      "Precision score for XGB: 0.97\n",
      "Recall score for XGB: 0.96\n",
      "F1 score for XGB: 0.96\n",
      "Sensitivity score for XGB: 0.96\n",
      "Specitivity score for XGB: 0.97\n",
      "AUC score for XGB: 0.99\n"
     ]
    },
    {
     "data": {
      "image/png": "[encoded data removed]",
      "text/plain": [
       "<Figure size 432x288 with 1 Axes>"
      ]
     },
     "metadata": {
      "needs_background": "light"
     },
     "output_type": "display_data"
    }
   ],
   "source": [
    "print(\"Classification report for XGB: \\n{}\".format(classification_report(y_test,y_xgb)))\n",
    "print(\"Confusion matrix for XGB: \\n{}\".format(confusion_matrix(y_test,y_xgb)))\n",
    "print(\"Accuracy score for XGB: {:.2f}\".format(accuracy_score(y_test,y_xgb)))\n",
    "# calculate precision, recall, and f1 scores\n",
    "prec_xgb = precision_score(y_test,y_xgb)\n",
    "rec_xgb = recall_score(y_test,y_xgb)\n",
    "f1_xgb = f1_score(y_test,y_xgb)\n",
    "print(\"Precision score for XGB: {:.2f}\".format(prec_xgb))\n",
    "print(\"Recall score for XGB: {:.2f}\".format(rec_xgb))\n",
    "print(\"F1 score for XGB: {:.2f}\".format(f1_xgb))\n",
    "# calculate sensitivity, specificity, and auc\n",
    "sens_xgb,spec_xgb = calc_sens_spec(y_test,y_xgb)\n",
    "fpr, tpr, _ = roc_curve(y_test,  y_xgb_prob[:,1])\n",
    "auc_xgb = roc_auc_score(y_test, y_xgb_prob[:,1])\n",
    "print(\"Sensitivity score for XGB: {:.2f}\".format(sens_xgb))\n",
    "print(\"Specitivity score for XGB: {:.2f}\".format(spec_xgb))\n",
    "print(\"AUC score for XGB: {:.2f}\".format(auc_xgb))\n",
    "fig, ax = plt.subplots()\n",
    "ax.plot(fpr, tpr, color='blue', label='ROC curve (area = %0.2f)' % auc_xgb)\n",
    "ax.plot([0, 1], [0, 1], color='green', linestyle='--')\n",
    "ax.set_xlim([-0.05, 1.0])\n",
    "ax.set_ylim([0.0, 1.05])\n",
    "ax.set_xlabel('False Positive Rate')\n",
    "ax.set_ylabel('True Positive Rate')\n",
    "ax.set_title('Receiver Operating Characteristic (XGB)')\n",
    "ax.legend(loc=\"lower right\")\n",
    "plt.show()"
   ]
  },
  {
   "cell_type": "code",
   "execution_count": 85,
   "metadata": {
    "colab": {
     "base_uri": "https://localhost:8080/",
     "height": 865
    },
    "id": "gHIvg4Hy3VF2",
    "outputId": "71c2bae5-e5ec-4ec3-fc14-74aaa6dee0c4"
   },
   "outputs": [
    {
     "data": {
      "image/png": "[encoded data removed]",
      "text/plain": [
       "<Figure size 576x432 with 1 Axes>"
      ]
     },
     "metadata": {
      "needs_background": "light"
     },
     "output_type": "display_data"
    },
    {
     "data": {
      "image/png": "[encoded data removed]",
      "text/plain": [
       "<Figure size 576x432 with 1 Axes>"
      ]
     },
     "metadata": {
      "needs_background": "light"
     },
     "output_type": "display_data"
    }
   ],
   "source": [
    "ml_names = ['SVM', 'GNB', 'LR', 'DT', 'RF', 'XGB']\n",
    "sens_all = [sens_svm, sens_gnb, sens_logit, sens_dtree, sens_ranfor,  sens_xgb]\n",
    "spec_all = [spec_svm, spec_gnb, spec_logit, spec_dtree, spec_ranfor,  spec_xgb]\n",
    "auc_all = [auc_svm, auc_gnb, auc_logit, auc_dtree, auc_ranfor,  auc_xgb]\n",
    "\n",
    "prec_all = [prec_svm, prec_gnb, prec_logit, prec_dtree, prec_ranfor,  prec_xgb]\n",
    "rec_all = [rec_svm, rec_gnb, rec_logit, rec_dtree, rec_ranfor,  rec_xgb]\n",
    "f1_all = [f1_svm, f1_gnb, f1_logit, f1_dtree, f1_ranfor,  f1_xgb]\n",
    "\n",
    "def autolabel(bars):\n",
    "    \n",
    "    for bar in bars:\n",
    "        height = bar.get_height()\n",
    "        ax.annotate('{:.2f}'.format(height),\n",
    "                    xy=(bar.get_x() + bar.get_width() / 2, height),\n",
    "                    xytext=(0, 5),  # 3 points vertical offset\n",
    "                    textcoords=\"offset points\",\n",
    "                    fontsize=12,\n",
    "                    rotation=90,\n",
    "                    ha='center', va='bottom')\n",
    "\n",
    "width = 0.25  # the width of the bars\n",
    "r1 = np.arange(len(ml_names))  # the label locations\n",
    "r2 = [x + width for x in r1]\n",
    "r3 = [x + width for x in r2]\n",
    "# plot sensitivity, specificity, and auc\n",
    "fig, ax = plt.subplots(figsize=(8,6))\n",
    "bar1 = ax.bar(r1, sens_all, width, label='Sensitivity')\n",
    "bar2 = ax.bar(r2, spec_all, width, label='Specificity')\n",
    "bar3 = ax.bar(r3, auc_all, width, label='AUC')\n",
    "# Add some text for labels, title and custom x-axis tick labels, etc.\n",
    "ax.set_ylim([0,1.15])\n",
    "ax.set_ylabel('Scores',fontsize=14)\n",
    "#ax.set_title('Performance benchmark across ML models')\n",
    "ax.set_xticks(r2)\n",
    "ax.set_xticklabels(ml_names)\n",
    "ax.tick_params(axis='both', which='major', labelsize=12)\n",
    "ax.set_xlabel(\"Machine Learning Model\\n(a)\",fontsize=14)\n",
    "ax.legend(loc='lower left',ncol=3,bbox_to_anchor=(0.25,1),fontsize=12)\n",
    "autolabel(bar1)\n",
    "autolabel(bar2)\n",
    "autolabel(bar3)\n",
    "fig.tight_layout()\n",
    "fig.savefig(\"ml_benchmark_auc.pdf\", bbox_inches='tight')\n",
    "plt.show()\n",
    "\n",
    "# plot sensitivity, specificity, and auc\n",
    "fig, ax = plt.subplots(figsize=(8,6))\n",
    "bar1 = ax.bar(r1, prec_all, width, label='Precision')\n",
    "bar2 = ax.bar(r2, rec_all, width, label='Recall')\n",
    "bar3 = ax.bar(r3, f1_all, width, label='F1')\n",
    "# Add some text for labels, title and custom x-axis tick labels, etc.\n",
    "ax.set_ylim([0,1.13])\n",
    "ax.set_ylabel('Scores',fontsize=14)\n",
    "#ax.set_title('Performance benchmark across ML models')\n",
    "ax.set_xticks(r2)\n",
    "ax.set_xticklabels(ml_names)\n",
    "ax.tick_params(axis='both', which='major', labelsize=12)\n",
    "ax.set_xlabel(\"Machine Learning Model\\n(b)\",fontsize=14)\n",
    "ax.legend(loc='lower left',ncol=3,bbox_to_anchor=(0.25,1),fontsize=12)\n",
    "autolabel(bar1)\n",
    "autolabel(bar2)\n",
    "autolabel(bar3)\n",
    "fig.tight_layout()\n",
    "fig.savefig(\"ml_benchmark_f1.pdf\", bbox_inches='tight')\n",
    "plt.show()"
   ]
  },
  {
   "cell_type": "code",
   "execution_count": 86,
   "metadata": {
    "colab": {
     "base_uri": "https://localhost:8080/",
     "height": 359
    },
    "id": "i5MemWy93xVc",
    "outputId": "a1ec9ef6-c163-4f76-eea4-3f163b408356"
   },
   "outputs": [
    {
     "name": "stderr",
     "output_type": "stream",
     "text": [
      "C:\\Users\\shubhendu\\.conda\\envs\\strokeprediction\\lib\\site-packages\\ipykernel_launcher.py:14: UserWarning: FixedFormatter should only be used together with FixedLocator\n",
      "  \n",
      "C:\\Users\\shubhendu\\.conda\\envs\\strokeprediction\\lib\\site-packages\\ipykernel_launcher.py:31: UserWarning: FixedFormatter should only be used together with FixedLocator\n"
     ]
    },
    {
     "data": {
      "image/png": "[encoded data removed]",
      "text/plain": [
       "<Figure size 1152x360 with 4 Axes>"
      ]
     },
     "metadata": {
      "needs_background": "light"
     },
     "output_type": "display_data"
    }
   ],
   "source": [
    "# feature importance from random forest\n",
    "feature_names = data.columns[:-1].to_numpy()\n",
    "ranfor_perm_imp = permutation_importance(ranfor_model, X_test, y_test, n_repeats=10, random_state=42)\n",
    "ranfor_perm_sort_idx = ranfor_perm_imp.importances_mean.argsort()\n",
    "\n",
    "ranfor_tree_sort_idx = np.argsort(ranfor_model.feature_importances_)\n",
    "ranfor_indices = np.arange(0, len(ranfor_model.feature_importances_)) + 0.5\n",
    "\n",
    "fig, (ax1, ax2, ax3, ax4) = plt.subplots(1, 4, figsize=(16, 5))\n",
    "ax1.barh(ranfor_indices,ranfor_model.feature_importances_[ranfor_tree_sort_idx], height=0.7)\n",
    "ax1.tick_params(axis='both', which='major', labelsize=12)\n",
    "ax1.set_xlabel(\"Importance Score\\n(b)\",fontsize=14)\n",
    "ax1.set_ylabel(\"Feature Name\",fontsize=14)\n",
    "ax1.set_yticklabels(feature_names[ranfor_tree_sort_idx])\n",
    "ax1.set_yticks(ranfor_indices)\n",
    "ax1.set_ylim((0, len(ranfor_model.feature_importances_)))\n",
    "ax2.boxplot(ranfor_perm_imp.importances[ranfor_perm_sort_idx].T,vert=False,labels=feature_names[ranfor_perm_sort_idx])\n",
    "ax2.tick_params(axis='both', which='major', labelsize=12)\n",
    "ax2.set_xlabel(\"Importance Score\\n(b)\",fontsize=14)\n",
    "\n",
    "# feature importance from XGBoost\n",
    "xgb_perm_imp = permutation_importance(xgb_model, X_test, y_test, n_repeats=10, random_state=42)\n",
    "xgb_perm_sort_idx = xgb_perm_imp.importances_mean.argsort()\n",
    "\n",
    "xgb_tree_sort_idx = np.argsort(xgb_model.feature_importances_)\n",
    "xgb_indices = np.arange(0, len(xgb_model.feature_importances_)) + 0.5\n",
    "\n",
    "ax3.barh(xgb_indices,xgb_model.feature_importances_[xgb_tree_sort_idx], height=0.7)\n",
    "ax3.tick_params(axis='both', which='major', labelsize=12)\n",
    "ax3.set_xlabel(\"Importance Score\\n(c)\",fontsize=14)\n",
    "ax3.set_yticklabels(feature_names[xgb_tree_sort_idx])\n",
    "ax3.set_yticks(xgb_indices)\n",
    "ax3.set_ylim((0, len(xgb_model.feature_importances_)))\n",
    "ax4.boxplot(xgb_perm_imp.importances[xgb_perm_sort_idx].T,vert=False,labels=feature_names[xgb_perm_sort_idx])\n",
    "ax4.tick_params(axis='both', which='major', labelsize=12)\n",
    "ax4.set_xlabel(\"Importance Score\\n(d)\",fontsize=14)\n",
    "fig.tight_layout()\n",
    "fig.savefig(\"feature_importance.pdf\", bbox_inches='tight')\n",
    "plt.show()"
   ]
  },
  {
   "cell_type": "code",
   "execution_count": 87,
   "metadata": {
    "id": "qss-I6D88SHo"
   },
   "outputs": [],
   "source": [
    "import pickle\n",
    "file = open('xgboost_model.pkl','wb')\n",
    "pickle.dump(xgb_model, file)"
   ]
  },
  {
   "cell_type": "code",
   "execution_count": 88,
   "metadata": {
    "id": "gupGnEUc8lH7"
   },
   "outputs": [],
   "source": [
    "file.flush()"
   ]
  },
  {
   "cell_type": "code",
   "execution_count": null,
   "metadata": {},
   "outputs": [],
   "source": []
  }
 ],
 "metadata": {
  "colab": {
   "name": "stroke prediction.ipynb",
   "provenance": []
  },
  "kernelspec": {
   "display_name": "Python 3 (ipykernel)",
   "language": "python",
   "name": "python3"
  },
  "language_info": {
   "codemirror_mode": {
    "name": "ipython",
    "version": 3
   },
   "file_extension": ".py",
   "mimetype": "text/x-python",
   "name": "python",
   "nbconvert_exporter": "python",
   "pygments_lexer": "ipython3",
   "version": "3.7.11"
  }
 },
 "nbformat": 4,
 "nbformat_minor": 1
}
